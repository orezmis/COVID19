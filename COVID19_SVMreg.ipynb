{
 "cells": [
  {
   "cell_type": "code",
   "execution_count": 6,
   "metadata": {},
   "outputs": [],
   "source": [
    "import pandas as pd\n",
    "import numpy as np\n",
    "import matplotlib.pyplot as plt\n",
    "%matplotlib inline\n",
    "from datetime import datetime, timedelta\n",
    "import seaborn as sns\n",
    "\n",
    "from sklearn.preprocessing import MinMaxScaler\n",
    "from sklearn.model_selection import train_test_split, GridSearchCV, KFold\n",
    "from sklearn.metrics import mean_squared_error\n",
    "from sklearn import svm"
   ]
  },
  {
   "cell_type": "markdown",
   "metadata": {},
   "source": [
    "### Data Modeling"
   ]
  },
  {
   "cell_type": "markdown",
   "metadata": {},
   "source": [
    "#### Normalization : MinMaxScaler"
   ]
  },
  {
   "cell_type": "code",
   "execution_count": 10,
   "metadata": {},
   "outputs": [],
   "source": [
    "d_final = pd.read_csv('C:\\workspaces\\COVID19_project\\src\\data//d_final.csv', encoding = 'utf-8')\n",
    "d_final = d_final[d_final.DEATH ==1]"
   ]
  },
  {
   "cell_type": "code",
   "execution_count": 16,
   "metadata": {},
   "outputs": [
    {
     "data": {
      "text/plain": [
       "1    32402\n",
       "Name: DEATH, dtype: int64"
      ]
     },
     "execution_count": 16,
     "metadata": {},
     "output_type": "execute_result"
    }
   ],
   "source": [
    "#d_final.head()\n",
    "d_final['DEATH'].value_counts()"
   ]
  },
  {
   "cell_type": "code",
   "execution_count": 17,
   "metadata": {},
   "outputs": [],
   "source": [
    "# 정규화할 변수만 d_normal0에 저장\n",
    "d_normal0 = d_final.loc[:, ['sex', 'intubed', 'pneumonia', 'age_grp', 'pregnancy', 'diabetes', 'copd', 'asthma', 'inmsupr',\n",
    "                            'hypertension', 'other_disease', 'obesity', 'cardiovascular', 'renal_chronic', \n",
    "                            'tobacco', 'contact_other_covid', 'covid_res', 'icu']]\n",
    "\n",
    "# y(종속변수)는 정규화 하지않고 따로 저장\n",
    "d_y = d_final.loc[:, ['DEATH', 'diff_days']]"
   ]
  },
  {
   "cell_type": "code",
   "execution_count": 18,
   "metadata": {},
   "outputs": [
    {
     "data": {
      "text/plain": [
       "array([[0. , 0.5, 1. , ..., 1. , 0. , 0.5],\n",
       "       [1. , 0.5, 0. , ..., 1. , 0. , 0. ],\n",
       "       [1. , 0.5, 0. , ..., 1. , 0. , 0.5],\n",
       "       ...,\n",
       "       [1. , 0.5, 1. , ..., 1. , 1. , 0.5],\n",
       "       [0. , 0. , 0. , ..., 0. , 1. , 0.5],\n",
       "       [1. , 0. , 0. , ..., 0.5, 1. , 0. ]])"
      ]
     },
     "execution_count": 18,
     "metadata": {},
     "output_type": "execute_result"
    }
   ],
   "source": [
    "# 정규화\n",
    "d_normal = MinMaxScaler(feature_range=(0,1)).fit_transform(d_normal0)\n",
    "d_normal"
   ]
  },
  {
   "cell_type": "markdown",
   "metadata": {},
   "source": [
    "#### Train, Test set 분리"
   ]
  },
  {
   "cell_type": "code",
   "execution_count": 19,
   "metadata": {},
   "outputs": [],
   "source": [
    "X_train, X_test, Y_train, Y_test = train_test_split(d_normal, d_y, shuffle = True, test_size = 0.2, random_state = 1004)"
   ]
  },
  {
   "cell_type": "code",
   "execution_count": 20,
   "metadata": {},
   "outputs": [
    {
     "name": "stdout",
     "output_type": "stream",
     "text": [
      "(25921, 18) \n",
      " (6481, 18) \n",
      " (25921, 2) \n",
      " (6481, 2)\n"
     ]
    }
   ],
   "source": [
    "print(X_train.shape[:],'\\n', X_test.shape[:], '\\n', Y_train.shape[:], '\\n', Y_test.shape[:])  "
   ]
  },
  {
   "cell_type": "markdown",
   "metadata": {},
   "source": [
    "#### Support Vector Machine"
   ]
  },
  {
   "cell_type": "markdown",
   "metadata": {},
   "source": [
    "##### SVM Hyper Parameter Tuning"
   ]
  },
  {
   "cell_type": "code",
   "execution_count": 27,
   "metadata": {},
   "outputs": [],
   "source": [
    "# Non-linear kernel\n",
    "Y_train2 = Y_train.loc[:, \"diff_days\"]\n",
    "svm_model = svm.SVR(kernel = 'rbf')\n",
    "parameters = {'C' : [0.01, 0.1, 1, 10, 25, 50, 100],\n",
    "             'gamma' : [0.01, 0.1, 1, 10, 25, 50, 100]}"
   ]
  },
  {
   "cell_type": "markdown",
   "metadata": {},
   "source": [
    "- 'rbg' -> 'rbf'\n",
    "- probability=True, random_state=1004 DELETED"
   ]
  },
  {
   "cell_type": "code",
   "execution_count": 38,
   "metadata": {},
   "outputs": [],
   "source": [
    "grid_svm = GridSearchCV(svm_model, \n",
    "                       param_grid = parameters,\n",
    "                       cv = KFold(3, random_state = 1004, shuffle=True),\n",
    "                       n_jobs = 4,\n",
    "                       refit=True)"
   ]
  },
  {
   "cell_type": "markdown",
   "metadata": {},
   "source": [
    "### - \" refit=True  \" MUST BE ADDED IN ORDER TO USE .best_estimator_"
   ]
  },
  {
   "cell_type": "code",
   "execution_count": 39,
   "metadata": {},
   "outputs": [
    {
     "data": {
      "text/plain": [
       "GridSearchCV(cv=KFold(n_splits=3, random_state=1004, shuffle=True),\n",
       "             estimator=SVR(), n_jobs=4,\n",
       "             param_grid={'C': [0.01, 0.1, 1, 10, 25, 50, 100],\n",
       "                         'gamma': [0.01, 0.1, 1, 10, 25, 50, 100]})"
      ]
     },
     "execution_count": 39,
     "metadata": {},
     "output_type": "execute_result"
    }
   ],
   "source": [
    "grid_svm.fit(X_train, Y_train2)"
   ]
  },
  {
   "cell_type": "code",
   "execution_count": 41,
   "metadata": {},
   "outputs": [
    {
     "name": "stdout",
     "output_type": "stream",
     "text": [
      "Best parameters (5-fold CV, gird search):  {'C': 10, 'gamma': 0.1}\n",
      "Best accuracy (5-fold CV, gird search):  -0.008692972647096934\n"
     ]
    }
   ],
   "source": [
    "# 최적 parameter 확인\n",
    "print(\"Best parameters (5-fold CV, gird search): \" , grid_svm.best_params_)\n",
    "print(\"Best accuracy (5-fold CV, gird search): \" , grid_svm.best_score_)"
   ]
  },
  {
   "cell_type": "code",
   "execution_count": 42,
   "metadata": {},
   "outputs": [],
   "source": [
    "cv_result_df = pd.DataFrame(grid_svm.cv_results_)\n",
    "cv_result_df.sort_values(by=['rank_test_score'], inplace=True)"
   ]
  },
  {
   "cell_type": "code",
   "execution_count": 43,
   "metadata": {},
   "outputs": [
    {
     "data": {
      "text/html": [
       "<div>\n",
       "<style scoped>\n",
       "    .dataframe tbody tr th:only-of-type {\n",
       "        vertical-align: middle;\n",
       "    }\n",
       "\n",
       "    .dataframe tbody tr th {\n",
       "        vertical-align: top;\n",
       "    }\n",
       "\n",
       "    .dataframe thead th {\n",
       "        text-align: right;\n",
       "    }\n",
       "</style>\n",
       "<table border=\"1\" class=\"dataframe\">\n",
       "  <thead>\n",
       "    <tr style=\"text-align: right;\">\n",
       "      <th></th>\n",
       "      <th>params</th>\n",
       "      <th>mean_test_score</th>\n",
       "      <th>rank_test_score</th>\n",
       "    </tr>\n",
       "  </thead>\n",
       "  <tbody>\n",
       "    <tr>\n",
       "      <th>22</th>\n",
       "      <td>{'C': 10, 'gamma': 0.1}</td>\n",
       "      <td>-0.008693</td>\n",
       "      <td>1</td>\n",
       "    </tr>\n",
       "    <tr>\n",
       "      <th>29</th>\n",
       "      <td>{'C': 25, 'gamma': 0.1}</td>\n",
       "      <td>-0.009187</td>\n",
       "      <td>2</td>\n",
       "    </tr>\n",
       "    <tr>\n",
       "      <th>36</th>\n",
       "      <td>{'C': 50, 'gamma': 0.1}</td>\n",
       "      <td>-0.010613</td>\n",
       "      <td>3</td>\n",
       "    </tr>\n",
       "    <tr>\n",
       "      <th>42</th>\n",
       "      <td>{'C': 100, 'gamma': 0.01}</td>\n",
       "      <td>-0.011319</td>\n",
       "      <td>4</td>\n",
       "    </tr>\n",
       "    <tr>\n",
       "      <th>15</th>\n",
       "      <td>{'C': 1, 'gamma': 0.1}</td>\n",
       "      <td>-0.011413</td>\n",
       "      <td>5</td>\n",
       "    </tr>\n",
       "  </tbody>\n",
       "</table>\n",
       "</div>"
      ],
      "text/plain": [
       "                       params  mean_test_score  rank_test_score\n",
       "22    {'C': 10, 'gamma': 0.1}        -0.008693                1\n",
       "29    {'C': 25, 'gamma': 0.1}        -0.009187                2\n",
       "36    {'C': 50, 'gamma': 0.1}        -0.010613                3\n",
       "42  {'C': 100, 'gamma': 0.01}        -0.011319                4\n",
       "15     {'C': 1, 'gamma': 0.1}        -0.011413                5"
      ]
     },
     "execution_count": 43,
     "metadata": {},
     "output_type": "execute_result"
    }
   ],
   "source": [
    "cv_result_df[['params', 'mean_test_score', 'rank_test_score']].head()"
   ]
  },
  {
   "cell_type": "code",
   "execution_count": 45,
   "metadata": {},
   "outputs": [
    {
     "data": {
      "text/plain": [
       "array([ 5.69521927,  9.56218308,  9.28077688, ..., 10.10012017,\n",
       "        8.42928744, 10.89959693])"
      ]
     },
     "execution_count": 45,
     "metadata": {},
     "output_type": "execute_result"
    }
   ],
   "source": [
    "# 최적 parameter로 xgboost 모델 생성 및 예측\n",
    "#svm_best = svm_model.best_estimator_\n",
    "svm_best = grid_svm.best_estimator_\n",
    "Y_pred = svm_best.predict(X_test) ; Y_pred # 예측값"
   ]
  },
  {
   "cell_type": "markdown",
   "metadata": {},
   "source": [
    "- svm_model changed to grid_svm"
   ]
  },
  {
   "cell_type": "code",
   "execution_count": 46,
   "metadata": {},
   "outputs": [
    {
     "data": {
      "text/plain": [
       "SVR(C=10, gamma=0.1)"
      ]
     },
     "execution_count": 46,
     "metadata": {},
     "output_type": "execute_result"
    }
   ],
   "source": [
    "svm_best"
   ]
  },
  {
   "cell_type": "markdown",
   "metadata": {},
   "source": [
    "### Test set 성능 평가\n",
    "- Test set에서의 결과 평가\n",
    "- 개념설명은 https://bcho.tistory.com/1206 참고\n",
    "- https://datascienceschool.net/view-notebook/731e0d2ef52c41c686ba53dcaf346f32/"
   ]
  },
  {
   "cell_type": "code",
   "execution_count": 47,
   "metadata": {},
   "outputs": [],
   "source": [
    "Y_test2 = Y_test.loc[:, \"diff_days\"] # True 값\n",
    "Y_test2 = Y_test2.reset_index(drop=True)"
   ]
  },
  {
   "cell_type": "code",
   "execution_count": 48,
   "metadata": {},
   "outputs": [
    {
     "name": "stdout",
     "output_type": "stream",
     "text": [
      "RMSE : 7.305\n"
     ]
    }
   ],
   "source": [
    "print('RMSE : %.3f' % np.sqrt(mean_squared_error(Y_test2, Y_pred)))"
   ]
  },
  {
   "cell_type": "markdown",
   "metadata": {},
   "source": [
    "#### X축 : Y, Y축 : predicted Y 산점도 작성"
   ]
  },
  {
   "cell_type": "code",
   "execution_count": 80,
   "metadata": {},
   "outputs": [
    {
     "data": {
      "image/png": "[encoded data removed]",
      "text/plain": [
       "<Figure size 576x576 with 1 Axes>"
      ]
     },
     "metadata": {
      "needs_background": "light"
     },
     "output_type": "display_data"
    }
   ],
   "source": [
    "plt.figure(figsize=(8,8))\n",
    "plt.rc('axes', titlesize=25)   \n",
    "plt.rc('axes', labelsize=20)  \n",
    "plt.rc('xtick', labelsize=15)   \n",
    "plt.rc('ytick', labelsize=15) \n",
    "plt.rc('legend', fontsize=13)\n",
    "\n",
    "plt.plot(Y_test2, Y_pred, 'x')\n",
    "plt.plot([0,60],[0,60], 'k--', linewidth=2, label=\"regression_line\")\n",
    "plt.xlim(0, 60)\n",
    "plt.ylim(0, 60)\n",
    "plt.xlabel('True value')\n",
    "plt.ylabel('Predicted value')\n",
    "plt.title('Linear Regression - SVM')\n",
    "plt.legend()\n",
    "\n",
    "plt.savefig('linReg_SVM.png', dpi=300)"
   ]
  },
  {
   "cell_type": "markdown",
   "metadata": {},
   "source": [
    "#### Y, Predicted Y export (나중에 그래프 그릴 때 쓰게)"
   ]
  },
  {
   "cell_type": "code",
   "execution_count": 55,
   "metadata": {},
   "outputs": [],
   "source": [
    "d_trueY = pd.DataFrame({'Y_True':Y_test2}).reset_index(drop=True)\n",
    "d_predY = pd.DataFrame({'Y_pred':Y_pred})"
   ]
  },
  {
   "cell_type": "code",
   "execution_count": 56,
   "metadata": {},
   "outputs": [
    {
     "data": {
      "text/html": [
       "<div>\n",
       "<style scoped>\n",
       "    .dataframe tbody tr th:only-of-type {\n",
       "        vertical-align: middle;\n",
       "    }\n",
       "\n",
       "    .dataframe tbody tr th {\n",
       "        vertical-align: top;\n",
       "    }\n",
       "\n",
       "    .dataframe thead th {\n",
       "        text-align: right;\n",
       "    }\n",
       "</style>\n",
       "<table border=\"1\" class=\"dataframe\">\n",
       "  <thead>\n",
       "    <tr style=\"text-align: right;\">\n",
       "      <th></th>\n",
       "      <th>Y_True</th>\n",
       "      <th>Y_pred</th>\n",
       "    </tr>\n",
       "  </thead>\n",
       "  <tbody>\n",
       "    <tr>\n",
       "      <th>0</th>\n",
       "      <td>8</td>\n",
       "      <td>5.695219</td>\n",
       "    </tr>\n",
       "    <tr>\n",
       "      <th>1</th>\n",
       "      <td>14</td>\n",
       "      <td>9.562183</td>\n",
       "    </tr>\n",
       "    <tr>\n",
       "      <th>2</th>\n",
       "      <td>7</td>\n",
       "      <td>9.280777</td>\n",
       "    </tr>\n",
       "    <tr>\n",
       "      <th>3</th>\n",
       "      <td>15</td>\n",
       "      <td>7.146372</td>\n",
       "    </tr>\n",
       "    <tr>\n",
       "      <th>4</th>\n",
       "      <td>16</td>\n",
       "      <td>9.356958</td>\n",
       "    </tr>\n",
       "    <tr>\n",
       "      <th>...</th>\n",
       "      <td>...</td>\n",
       "      <td>...</td>\n",
       "    </tr>\n",
       "    <tr>\n",
       "      <th>6476</th>\n",
       "      <td>11</td>\n",
       "      <td>9.842455</td>\n",
       "    </tr>\n",
       "    <tr>\n",
       "      <th>6477</th>\n",
       "      <td>17</td>\n",
       "      <td>8.100032</td>\n",
       "    </tr>\n",
       "    <tr>\n",
       "      <th>6478</th>\n",
       "      <td>16</td>\n",
       "      <td>10.100120</td>\n",
       "    </tr>\n",
       "    <tr>\n",
       "      <th>6479</th>\n",
       "      <td>15</td>\n",
       "      <td>8.429287</td>\n",
       "    </tr>\n",
       "    <tr>\n",
       "      <th>6480</th>\n",
       "      <td>11</td>\n",
       "      <td>10.899597</td>\n",
       "    </tr>\n",
       "  </tbody>\n",
       "</table>\n",
       "<p>6481 rows × 2 columns</p>\n",
       "</div>"
      ],
      "text/plain": [
       "      Y_True     Y_pred\n",
       "0          8   5.695219\n",
       "1         14   9.562183\n",
       "2          7   9.280777\n",
       "3         15   7.146372\n",
       "4         16   9.356958\n",
       "...      ...        ...\n",
       "6476      11   9.842455\n",
       "6477      17   8.100032\n",
       "6478      16  10.100120\n",
       "6479      15   8.429287\n",
       "6480      11  10.899597\n",
       "\n",
       "[6481 rows x 2 columns]"
      ]
     },
     "execution_count": 56,
     "metadata": {},
     "output_type": "execute_result"
    }
   ],
   "source": [
    "reg_svm = pd.concat([d_trueY, d_predY], axis = 1).reset_index(drop=True)\n",
    "reg_svm"
   ]
  },
  {
   "cell_type": "code",
   "execution_count": 57,
   "metadata": {},
   "outputs": [],
   "source": [
    "reg_svm.to_csv('C://workspaces//COVID19_project//processed//reg_svm.csv', encoding='utf-8', index=False, line_terminator='\\n')"
   ]
  },
  {
   "cell_type": "code",
   "execution_count": null,
   "metadata": {},
   "outputs": [],
   "source": []
  }
 ],
 "metadata": {
  "kernelspec": {
   "display_name": "Python 3",
   "language": "python",
   "name": "python3"
  },
  "language_info": {
   "codemirror_mode": {
    "name": "ipython",
    "version": 3
   },
   "file_extension": ".py",
   "mimetype": "text/x-python",
   "name": "python",
   "nbconvert_exporter": "python",
   "pygments_lexer": "ipython3",
   "version": "3.7.9"
  }
 },
 "nbformat": 4,
 "nbformat_minor": 4
}
