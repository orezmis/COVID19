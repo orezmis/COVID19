{
 "cells": [
  {
   "cell_type": "code",
   "execution_count": 1,
   "metadata": {},
   "outputs": [],
   "source": [
    "import numpy as np\n",
    "import matplotlib.pyplot as plt\n",
    "import pandas as pd\n",
    "import tensorflow as tf\n",
    "\n",
    "from sklearn import preprocessing\n",
    "from sklearn.model_selection import train_test_split"
   ]
  },
  {
   "cell_type": "code",
   "execution_count": 5,
   "metadata": {},
   "outputs": [
    {
     "data": {
      "text/html": [
       "<div>\n",
       "<style scoped>\n",
       "    .dataframe tbody tr th:only-of-type {\n",
       "        vertical-align: middle;\n",
       "    }\n",
       "\n",
       "    .dataframe tbody tr th {\n",
       "        vertical-align: top;\n",
       "    }\n",
       "\n",
       "    .dataframe thead th {\n",
       "        text-align: right;\n",
       "    }\n",
       "</style>\n",
       "<table border=\"1\" class=\"dataframe\">\n",
       "  <thead>\n",
       "    <tr style=\"text-align: right;\">\n",
       "      <th></th>\n",
       "      <th>id</th>\n",
       "      <th>sex</th>\n",
       "      <th>intubed</th>\n",
       "      <th>pneumonia</th>\n",
       "      <th>age</th>\n",
       "      <th>pregnancy</th>\n",
       "      <th>diabetes</th>\n",
       "      <th>copd</th>\n",
       "      <th>asthma</th>\n",
       "      <th>inmsupr</th>\n",
       "      <th>...</th>\n",
       "      <th>tobacco</th>\n",
       "      <th>contact_other_covid</th>\n",
       "      <th>covid_res</th>\n",
       "      <th>icu</th>\n",
       "      <th>DEATH</th>\n",
       "      <th>d_ent</th>\n",
       "      <th>d_sym</th>\n",
       "      <th>d_last</th>\n",
       "      <th>diff_days</th>\n",
       "      <th>age_grp</th>\n",
       "    </tr>\n",
       "  </thead>\n",
       "  <tbody>\n",
       "    <tr>\n",
       "      <th>0</th>\n",
       "      <td>167386</td>\n",
       "      <td>1</td>\n",
       "      <td>2</td>\n",
       "      <td>2</td>\n",
       "      <td>54</td>\n",
       "      <td>2</td>\n",
       "      <td>2</td>\n",
       "      <td>2</td>\n",
       "      <td>2</td>\n",
       "      <td>2</td>\n",
       "      <td>...</td>\n",
       "      <td>2</td>\n",
       "      <td>3</td>\n",
       "      <td>1</td>\n",
       "      <td>2</td>\n",
       "      <td>0</td>\n",
       "      <td>2020-04-06</td>\n",
       "      <td>2020-04-01</td>\n",
       "      <td>2020-06-29</td>\n",
       "      <td>89</td>\n",
       "      <td>3.0</td>\n",
       "    </tr>\n",
       "    <tr>\n",
       "      <th>1</th>\n",
       "      <td>0b5948</td>\n",
       "      <td>2</td>\n",
       "      <td>2</td>\n",
       "      <td>1</td>\n",
       "      <td>30</td>\n",
       "      <td>2</td>\n",
       "      <td>2</td>\n",
       "      <td>2</td>\n",
       "      <td>2</td>\n",
       "      <td>2</td>\n",
       "      <td>...</td>\n",
       "      <td>2</td>\n",
       "      <td>3</td>\n",
       "      <td>1</td>\n",
       "      <td>2</td>\n",
       "      <td>0</td>\n",
       "      <td>2020-04-17</td>\n",
       "      <td>2020-04-10</td>\n",
       "      <td>2020-06-29</td>\n",
       "      <td>80</td>\n",
       "      <td>2.0</td>\n",
       "    </tr>\n",
       "    <tr>\n",
       "      <th>2</th>\n",
       "      <td>0d01b5</td>\n",
       "      <td>1</td>\n",
       "      <td>2</td>\n",
       "      <td>2</td>\n",
       "      <td>60</td>\n",
       "      <td>2</td>\n",
       "      <td>1</td>\n",
       "      <td>2</td>\n",
       "      <td>2</td>\n",
       "      <td>2</td>\n",
       "      <td>...</td>\n",
       "      <td>2</td>\n",
       "      <td>3</td>\n",
       "      <td>1</td>\n",
       "      <td>2</td>\n",
       "      <td>1</td>\n",
       "      <td>2020-04-13</td>\n",
       "      <td>2020-04-13</td>\n",
       "      <td>2020-04-22</td>\n",
       "      <td>9</td>\n",
       "      <td>4.0</td>\n",
       "    </tr>\n",
       "    <tr>\n",
       "      <th>3</th>\n",
       "      <td>1beec8</td>\n",
       "      <td>2</td>\n",
       "      <td>2</td>\n",
       "      <td>1</td>\n",
       "      <td>47</td>\n",
       "      <td>2</td>\n",
       "      <td>1</td>\n",
       "      <td>2</td>\n",
       "      <td>2</td>\n",
       "      <td>2</td>\n",
       "      <td>...</td>\n",
       "      <td>2</td>\n",
       "      <td>3</td>\n",
       "      <td>1</td>\n",
       "      <td>1</td>\n",
       "      <td>1</td>\n",
       "      <td>2020-04-16</td>\n",
       "      <td>2020-04-16</td>\n",
       "      <td>2020-04-29</td>\n",
       "      <td>13</td>\n",
       "      <td>3.0</td>\n",
       "    </tr>\n",
       "    <tr>\n",
       "      <th>4</th>\n",
       "      <td>1.75E+56</td>\n",
       "      <td>2</td>\n",
       "      <td>2</td>\n",
       "      <td>2</td>\n",
       "      <td>63</td>\n",
       "      <td>2</td>\n",
       "      <td>2</td>\n",
       "      <td>2</td>\n",
       "      <td>2</td>\n",
       "      <td>2</td>\n",
       "      <td>...</td>\n",
       "      <td>2</td>\n",
       "      <td>3</td>\n",
       "      <td>1</td>\n",
       "      <td>2</td>\n",
       "      <td>0</td>\n",
       "      <td>2020-04-22</td>\n",
       "      <td>2020-04-13</td>\n",
       "      <td>2020-06-29</td>\n",
       "      <td>77</td>\n",
       "      <td>4.0</td>\n",
       "    </tr>\n",
       "  </tbody>\n",
       "</table>\n",
       "<p>5 rows × 25 columns</p>\n",
       "</div>"
      ],
      "text/plain": [
       "         id  sex  intubed  pneumonia  age  pregnancy  diabetes  copd  asthma  \\\n",
       "0    167386    1        2          2   54          2         2     2       2   \n",
       "1    0b5948    2        2          1   30          2         2     2       2   \n",
       "2    0d01b5    1        2          2   60          2         1     2       2   \n",
       "3    1beec8    2        2          1   47          2         1     2       2   \n",
       "4  1.75E+56    2        2          2   63          2         2     2       2   \n",
       "\n",
       "   inmsupr  ...  tobacco  contact_other_covid  covid_res  icu  DEATH  \\\n",
       "0        2  ...        2                    3          1    2      0   \n",
       "1        2  ...        2                    3          1    2      0   \n",
       "2        2  ...        2                    3          1    2      1   \n",
       "3        2  ...        2                    3          1    1      1   \n",
       "4        2  ...        2                    3          1    2      0   \n",
       "\n",
       "        d_ent       d_sym      d_last  diff_days  age_grp  \n",
       "0  2020-04-06  2020-04-01  2020-06-29         89      3.0  \n",
       "1  2020-04-17  2020-04-10  2020-06-29         80      2.0  \n",
       "2  2020-04-13  2020-04-13  2020-04-22          9      4.0  \n",
       "3  2020-04-16  2020-04-16  2020-04-29         13      3.0  \n",
       "4  2020-04-22  2020-04-13  2020-06-29         77      4.0  \n",
       "\n",
       "[5 rows x 25 columns]"
      ]
     },
     "execution_count": 5,
     "metadata": {},
     "output_type": "execute_result"
    }
   ],
   "source": [
    "df = pd.read_csv(\"C://workspaces//project_data//d_final.csv\")\n",
    "df.head()"
   ]
  },
  {
   "cell_type": "code",
   "execution_count": 6,
   "metadata": {
    "scrolled": true
   },
   "outputs": [
    {
     "data": {
      "text/html": [
       "<div>\n",
       "<style scoped>\n",
       "    .dataframe tbody tr th:only-of-type {\n",
       "        vertical-align: middle;\n",
       "    }\n",
       "\n",
       "    .dataframe tbody tr th {\n",
       "        vertical-align: top;\n",
       "    }\n",
       "\n",
       "    .dataframe thead th {\n",
       "        text-align: right;\n",
       "    }\n",
       "</style>\n",
       "<table border=\"1\" class=\"dataframe\">\n",
       "  <thead>\n",
       "    <tr style=\"text-align: right;\">\n",
       "      <th></th>\n",
       "      <th>sex</th>\n",
       "      <th>intubed</th>\n",
       "      <th>pneumonia</th>\n",
       "      <th>age</th>\n",
       "      <th>pregnancy</th>\n",
       "      <th>diabetes</th>\n",
       "      <th>copd</th>\n",
       "      <th>asthma</th>\n",
       "      <th>inmsupr</th>\n",
       "      <th>hypertension</th>\n",
       "      <th>...</th>\n",
       "      <th>obesity</th>\n",
       "      <th>cardiovascular</th>\n",
       "      <th>renal_chronic</th>\n",
       "      <th>tobacco</th>\n",
       "      <th>contact_other_covid</th>\n",
       "      <th>covid_res</th>\n",
       "      <th>icu</th>\n",
       "      <th>DEATH</th>\n",
       "      <th>diff_days</th>\n",
       "      <th>age_grp</th>\n",
       "    </tr>\n",
       "  </thead>\n",
       "  <tbody>\n",
       "    <tr>\n",
       "      <th>count</th>\n",
       "      <td>121395.000000</td>\n",
       "      <td>121395.000000</td>\n",
       "      <td>121395.000000</td>\n",
       "      <td>121395.000000</td>\n",
       "      <td>121395.000000</td>\n",
       "      <td>121395.000000</td>\n",
       "      <td>121395.000000</td>\n",
       "      <td>121395.000000</td>\n",
       "      <td>121395.000000</td>\n",
       "      <td>121395.000000</td>\n",
       "      <td>...</td>\n",
       "      <td>121395.000000</td>\n",
       "      <td>121395.000000</td>\n",
       "      <td>121395.000000</td>\n",
       "      <td>121395.000000</td>\n",
       "      <td>121395.000000</td>\n",
       "      <td>121395.000000</td>\n",
       "      <td>121395.000000</td>\n",
       "      <td>121395.000000</td>\n",
       "      <td>121395.000000</td>\n",
       "      <td>121395.000000</td>\n",
       "    </tr>\n",
       "    <tr>\n",
       "      <th>mean</th>\n",
       "      <td>1.599374</td>\n",
       "      <td>1.919198</td>\n",
       "      <td>1.394950</td>\n",
       "      <td>52.957577</td>\n",
       "      <td>1.992561</td>\n",
       "      <td>1.714560</td>\n",
       "      <td>1.959776</td>\n",
       "      <td>1.979027</td>\n",
       "      <td>1.966770</td>\n",
       "      <td>1.674105</td>\n",
       "      <td>...</td>\n",
       "      <td>1.799275</td>\n",
       "      <td>1.953655</td>\n",
       "      <td>1.945583</td>\n",
       "      <td>1.917081</td>\n",
       "      <td>2.367676</td>\n",
       "      <td>1.557519</td>\n",
       "      <td>1.917987</td>\n",
       "      <td>0.266914</td>\n",
       "      <td>32.845092</td>\n",
       "      <td>3.187380</td>\n",
       "    </tr>\n",
       "    <tr>\n",
       "      <th>std</th>\n",
       "      <td>0.490027</td>\n",
       "      <td>0.276166</td>\n",
       "      <td>0.488859</td>\n",
       "      <td>19.237785</td>\n",
       "      <td>0.100507</td>\n",
       "      <td>0.463632</td>\n",
       "      <td>0.219534</td>\n",
       "      <td>0.173651</td>\n",
       "      <td>0.208078</td>\n",
       "      <td>0.479277</td>\n",
       "      <td>...</td>\n",
       "      <td>0.413378</td>\n",
       "      <td>0.234145</td>\n",
       "      <td>0.247939</td>\n",
       "      <td>0.294203</td>\n",
       "      <td>0.718388</td>\n",
       "      <td>0.694507</td>\n",
       "      <td>0.278025</td>\n",
       "      <td>0.442349</td>\n",
       "      <td>27.360004</td>\n",
       "      <td>0.970514</td>\n",
       "    </tr>\n",
       "    <tr>\n",
       "      <th>min</th>\n",
       "      <td>1.000000</td>\n",
       "      <td>1.000000</td>\n",
       "      <td>1.000000</td>\n",
       "      <td>0.000000</td>\n",
       "      <td>1.000000</td>\n",
       "      <td>1.000000</td>\n",
       "      <td>1.000000</td>\n",
       "      <td>1.000000</td>\n",
       "      <td>1.000000</td>\n",
       "      <td>1.000000</td>\n",
       "      <td>...</td>\n",
       "      <td>1.000000</td>\n",
       "      <td>1.000000</td>\n",
       "      <td>1.000000</td>\n",
       "      <td>1.000000</td>\n",
       "      <td>1.000000</td>\n",
       "      <td>1.000000</td>\n",
       "      <td>1.000000</td>\n",
       "      <td>0.000000</td>\n",
       "      <td>0.000000</td>\n",
       "      <td>1.000000</td>\n",
       "    </tr>\n",
       "    <tr>\n",
       "      <th>25%</th>\n",
       "      <td>1.000000</td>\n",
       "      <td>2.000000</td>\n",
       "      <td>1.000000</td>\n",
       "      <td>42.000000</td>\n",
       "      <td>2.000000</td>\n",
       "      <td>1.000000</td>\n",
       "      <td>2.000000</td>\n",
       "      <td>2.000000</td>\n",
       "      <td>2.000000</td>\n",
       "      <td>1.000000</td>\n",
       "      <td>...</td>\n",
       "      <td>2.000000</td>\n",
       "      <td>2.000000</td>\n",
       "      <td>2.000000</td>\n",
       "      <td>2.000000</td>\n",
       "      <td>2.000000</td>\n",
       "      <td>1.000000</td>\n",
       "      <td>2.000000</td>\n",
       "      <td>0.000000</td>\n",
       "      <td>11.000000</td>\n",
       "      <td>3.000000</td>\n",
       "    </tr>\n",
       "    <tr>\n",
       "      <th>50%</th>\n",
       "      <td>2.000000</td>\n",
       "      <td>2.000000</td>\n",
       "      <td>1.000000</td>\n",
       "      <td>55.000000</td>\n",
       "      <td>2.000000</td>\n",
       "      <td>2.000000</td>\n",
       "      <td>2.000000</td>\n",
       "      <td>2.000000</td>\n",
       "      <td>2.000000</td>\n",
       "      <td>2.000000</td>\n",
       "      <td>...</td>\n",
       "      <td>2.000000</td>\n",
       "      <td>2.000000</td>\n",
       "      <td>2.000000</td>\n",
       "      <td>2.000000</td>\n",
       "      <td>3.000000</td>\n",
       "      <td>1.000000</td>\n",
       "      <td>2.000000</td>\n",
       "      <td>0.000000</td>\n",
       "      <td>24.000000</td>\n",
       "      <td>3.000000</td>\n",
       "    </tr>\n",
       "    <tr>\n",
       "      <th>75%</th>\n",
       "      <td>2.000000</td>\n",
       "      <td>2.000000</td>\n",
       "      <td>2.000000</td>\n",
       "      <td>66.000000</td>\n",
       "      <td>2.000000</td>\n",
       "      <td>2.000000</td>\n",
       "      <td>2.000000</td>\n",
       "      <td>2.000000</td>\n",
       "      <td>2.000000</td>\n",
       "      <td>2.000000</td>\n",
       "      <td>...</td>\n",
       "      <td>2.000000</td>\n",
       "      <td>2.000000</td>\n",
       "      <td>2.000000</td>\n",
       "      <td>2.000000</td>\n",
       "      <td>3.000000</td>\n",
       "      <td>2.000000</td>\n",
       "      <td>2.000000</td>\n",
       "      <td>1.000000</td>\n",
       "      <td>49.000000</td>\n",
       "      <td>4.000000</td>\n",
       "    </tr>\n",
       "    <tr>\n",
       "      <th>max</th>\n",
       "      <td>2.000000</td>\n",
       "      <td>3.000000</td>\n",
       "      <td>3.000000</td>\n",
       "      <td>118.000000</td>\n",
       "      <td>3.000000</td>\n",
       "      <td>3.000000</td>\n",
       "      <td>3.000000</td>\n",
       "      <td>3.000000</td>\n",
       "      <td>3.000000</td>\n",
       "      <td>3.000000</td>\n",
       "      <td>...</td>\n",
       "      <td>3.000000</td>\n",
       "      <td>3.000000</td>\n",
       "      <td>3.000000</td>\n",
       "      <td>3.000000</td>\n",
       "      <td>3.000000</td>\n",
       "      <td>3.000000</td>\n",
       "      <td>3.000000</td>\n",
       "      <td>1.000000</td>\n",
       "      <td>180.000000</td>\n",
       "      <td>5.000000</td>\n",
       "    </tr>\n",
       "  </tbody>\n",
       "</table>\n",
       "<p>8 rows × 21 columns</p>\n",
       "</div>"
      ],
      "text/plain": [
       "                 sex        intubed      pneumonia            age  \\\n",
       "count  121395.000000  121395.000000  121395.000000  121395.000000   \n",
       "mean        1.599374       1.919198       1.394950      52.957577   \n",
       "std         0.490027       0.276166       0.488859      19.237785   \n",
       "min         1.000000       1.000000       1.000000       0.000000   \n",
       "25%         1.000000       2.000000       1.000000      42.000000   \n",
       "50%         2.000000       2.000000       1.000000      55.000000   \n",
       "75%         2.000000       2.000000       2.000000      66.000000   \n",
       "max         2.000000       3.000000       3.000000     118.000000   \n",
       "\n",
       "           pregnancy       diabetes           copd         asthma  \\\n",
       "count  121395.000000  121395.000000  121395.000000  121395.000000   \n",
       "mean        1.992561       1.714560       1.959776       1.979027   \n",
       "std         0.100507       0.463632       0.219534       0.173651   \n",
       "min         1.000000       1.000000       1.000000       1.000000   \n",
       "25%         2.000000       1.000000       2.000000       2.000000   \n",
       "50%         2.000000       2.000000       2.000000       2.000000   \n",
       "75%         2.000000       2.000000       2.000000       2.000000   \n",
       "max         3.000000       3.000000       3.000000       3.000000   \n",
       "\n",
       "             inmsupr   hypertension  ...        obesity  cardiovascular  \\\n",
       "count  121395.000000  121395.000000  ...  121395.000000   121395.000000   \n",
       "mean        1.966770       1.674105  ...       1.799275        1.953655   \n",
       "std         0.208078       0.479277  ...       0.413378        0.234145   \n",
       "min         1.000000       1.000000  ...       1.000000        1.000000   \n",
       "25%         2.000000       1.000000  ...       2.000000        2.000000   \n",
       "50%         2.000000       2.000000  ...       2.000000        2.000000   \n",
       "75%         2.000000       2.000000  ...       2.000000        2.000000   \n",
       "max         3.000000       3.000000  ...       3.000000        3.000000   \n",
       "\n",
       "       renal_chronic        tobacco  contact_other_covid      covid_res  \\\n",
       "count  121395.000000  121395.000000        121395.000000  121395.000000   \n",
       "mean        1.945583       1.917081             2.367676       1.557519   \n",
       "std         0.247939       0.294203             0.718388       0.694507   \n",
       "min         1.000000       1.000000             1.000000       1.000000   \n",
       "25%         2.000000       2.000000             2.000000       1.000000   \n",
       "50%         2.000000       2.000000             3.000000       1.000000   \n",
       "75%         2.000000       2.000000             3.000000       2.000000   \n",
       "max         3.000000       3.000000             3.000000       3.000000   \n",
       "\n",
       "                 icu          DEATH      diff_days        age_grp  \n",
       "count  121395.000000  121395.000000  121395.000000  121395.000000  \n",
       "mean        1.917987       0.266914      32.845092       3.187380  \n",
       "std         0.278025       0.442349      27.360004       0.970514  \n",
       "min         1.000000       0.000000       0.000000       1.000000  \n",
       "25%         2.000000       0.000000      11.000000       3.000000  \n",
       "50%         2.000000       0.000000      24.000000       3.000000  \n",
       "75%         2.000000       1.000000      49.000000       4.000000  \n",
       "max         3.000000       1.000000     180.000000       5.000000  \n",
       "\n",
       "[8 rows x 21 columns]"
      ]
     },
     "execution_count": 6,
     "metadata": {},
     "output_type": "execute_result"
    }
   ],
   "source": [
    "df.describe()"
   ]
  },
  {
   "cell_type": "code",
   "execution_count": 10,
   "metadata": {},
   "outputs": [],
   "source": [
    "t_train_raw = df[['sex', 'intubed','age_grp','pneumonia','pregnancy', 'diabetes', 'copd', 'asthma','inmsupr','hypertension','other_disease','cardiovascular','obesity', 'renal_chronic', 'tobacco', 'contact_other_covid', 'covid_res', 'icu']]\n",
    "target_raw = df['DEATH']"
   ]
  },
  {
   "cell_type": "code",
   "execution_count": 11,
   "metadata": {},
   "outputs": [],
   "source": [
    "## 정규화 적용\n",
    "min_max_scaler = preprocessing.MinMaxScaler()\n",
    "x_scaled = min_max_scaler.fit_transform(t_train_raw)\n",
    "x_train_raw = pd.DataFrame(x_scaled)\n",
    "\n",
    "\n",
    "## train/test 셋 분리\n",
    "x_train, x_test, target_train, target_test = train_test_split(x_train_raw, target_raw, test_size=0.2)"
   ]
  },
  {
   "cell_type": "markdown",
   "metadata": {},
   "source": [
    "## 텐서후로우 로지스틱 리그레션"
   ]
  },
  {
   "cell_type": "code",
   "execution_count": 34,
   "metadata": {},
   "outputs": [
    {
     "name": "stdout",
     "output_type": "stream",
     "text": [
      "Festures: [1.  0.5 0.5 0.  0.5 0.  0.5 0.5 0.5 0.  0.5 0.  0.5 0.5 0.5 1.  0.  0.5], Target: 1\n",
      "Festures: [1.   0.5  0.75 0.5  0.5  0.5  0.5  0.5  0.5  0.5  0.5  0.5  0.5  0.5\n",
      " 0.5  1.   0.5  0.5 ], Target: 0\n",
      "Festures: [1.   0.5  0.25 0.5  0.5  0.5  0.5  0.5  0.5  0.   0.5  0.5  0.5  0.\n",
      " 0.5  1.   0.   0.5 ], Target: 0\n",
      "Festures: [0.   0.5  0.25 0.5  0.5  0.5  0.5  0.5  0.5  0.5  0.5  0.5  0.5  0.5\n",
      " 0.5  0.5  0.5  0.5 ], Target: 0\n",
      "Festures: [1.  0.5 0.5 0.  0.5 0.5 0.5 0.5 0.5 0.5 0.5 0.5 0.5 0.5 0.  0.5 0.5 0.5], Target: 0\n"
     ]
    }
   ],
   "source": [
    "dataset = tf.data.Dataset.from_tensor_slices((x_train.values, target_train.values))\n",
    "\n",
    "for feat, targ in dataset.take(5):\n",
    "    print('Festures: {}, Target: {}'.format(feat, targ))"
   ]
  },
  {
   "cell_type": "code",
   "execution_count": 178,
   "metadata": {},
   "outputs": [],
   "source": [
    "train_dataset = dataset.shuffle(len(df)).batch(100)\n",
    "\n",
    "\n",
    "## 4개 히든층, 각각 10개, 8개, 4개, 1개 출력부, relu와 sigmoid 함수적용 \n",
    "\n",
    "def get_compiled_model():\n",
    "    model = tf.keras.Sequential([\n",
    "        tf.keras.layers.Dense(10, activation='relu'),\n",
    "        tf.keras.layers.Dense(8, activation='sigmoid'),\n",
    "        tf.keras.layers.Dense(4, activation='sigmoid'),\n",
    "        tf.keras.layers.Dense(1)\n",
    "    ])\n",
    "    \n",
    "    model.compile(optimizer='adam',\n",
    "                 loss=tf.keras.losses.BinaryCrossentropy(from_logits=True),\n",
    "                 metrics=['accuracy'])\n",
    "    return model"
   ]
  },
  {
   "cell_type": "code",
   "execution_count": 179,
   "metadata": {},
   "outputs": [
    {
     "name": "stdout",
     "output_type": "stream",
     "text": [
      "Train for 972 steps, validate on 24279 samples\n",
      "Epoch 1/15\n",
      "972/972 - 2s - loss: 0.5610 - accuracy: 0.7323 - val_loss: 0.5053 - val_accuracy: 0.7364\n",
      "Epoch 2/15\n",
      "972/972 - 1s - loss: 0.4964 - accuracy: 0.7360 - val_loss: 0.4870 - val_accuracy: 0.7512\n",
      "Epoch 3/15\n",
      "972/972 - 1s - loss: 0.4882 - accuracy: 0.7499 - val_loss: 0.4834 - val_accuracy: 0.7541\n",
      "Epoch 4/15\n",
      "972/972 - 1s - loss: 0.4857 - accuracy: 0.7526 - val_loss: 0.4821 - val_accuracy: 0.7590\n",
      "Epoch 5/15\n",
      "972/972 - 1s - loss: 0.4844 - accuracy: 0.7547 - val_loss: 0.4806 - val_accuracy: 0.7577\n",
      "Epoch 6/15\n",
      "972/972 - 1s - loss: 0.4830 - accuracy: 0.7558 - val_loss: 0.4802 - val_accuracy: 0.7583\n",
      "Epoch 7/15\n",
      "972/972 - 1s - loss: 0.4821 - accuracy: 0.7569 - val_loss: 0.4783 - val_accuracy: 0.7607\n",
      "Epoch 8/15\n",
      "972/972 - 1s - loss: 0.4811 - accuracy: 0.7573 - val_loss: 0.4775 - val_accuracy: 0.7617\n",
      "Epoch 9/15\n",
      "972/972 - 1s - loss: 0.4806 - accuracy: 0.7581 - val_loss: 0.4770 - val_accuracy: 0.7608\n",
      "Epoch 10/15\n",
      "972/972 - 1s - loss: 0.4797 - accuracy: 0.7588 - val_loss: 0.4767 - val_accuracy: 0.7600\n",
      "Epoch 11/15\n",
      "972/972 - 1s - loss: 0.4797 - accuracy: 0.7590 - val_loss: 0.4761 - val_accuracy: 0.7605\n",
      "Epoch 12/15\n",
      "972/972 - 1s - loss: 0.4791 - accuracy: 0.7599 - val_loss: 0.4760 - val_accuracy: 0.7611\n",
      "Epoch 13/15\n",
      "972/972 - 1s - loss: 0.4788 - accuracy: 0.7593 - val_loss: 0.4754 - val_accuracy: 0.7611\n",
      "Epoch 14/15\n",
      "972/972 - 1s - loss: 0.4786 - accuracy: 0.7596 - val_loss: 0.4770 - val_accuracy: 0.7634\n",
      "Epoch 15/15\n",
      "972/972 - 1s - loss: 0.4787 - accuracy: 0.7605 - val_loss: 0.4748 - val_accuracy: 0.7609\n"
     ]
    }
   ],
   "source": [
    "## 학습과 동시에 검증을 하도록 구성하였읍니다\n",
    "\n",
    "model = get_compiled_model()\n",
    "hist = model.fit(train_dataset, epochs=15,\n",
    "         validation_data=(x_test, target_test),\n",
    "         validation_steps=100,\n",
    "         verbose=2)"
   ]
  },
  {
   "cell_type": "code",
   "execution_count": 180,
   "metadata": {},
   "outputs": [
    {
     "name": "stdout",
     "output_type": "stream",
     "text": [
      "24279/24279 - 0s - loss: 0.4748 - accuracy: 0.7609\n"
     ]
    }
   ],
   "source": [
    "## 위에서 검증데이터를 평가해보았지만 또 한번 해본결과\n",
    "\n",
    "score = model.evaluate(x_test, target_test, verbose=2)"
   ]
  },
  {
   "cell_type": "code",
   "execution_count": 181,
   "metadata": {},
   "outputs": [
    {
     "data": {
      "image/png": "[encoded data removed]",
      "text/plain": [
       "<Figure size 576x288 with 2 Axes>"
      ]
     },
     "metadata": {
      "needs_background": "light"
     },
     "output_type": "display_data"
    }
   ],
   "source": [
    "plt.figure(figsize=(8, 4))\n",
    "plt.subplot(1,2,1)\n",
    "plt.plot(hist.history['loss'])\n",
    "plt.title(\"loss\")\n",
    "plt.subplot(1,2,2)\n",
    "plt.title(\"accuracy\")\n",
    "plt.plot(hist.history['accuracy'], 'b-', label=\"training\")\n",
    "plt.plot(hist.history['val_accuracy'], 'r:', label=\"validation\")\n",
    "plt.legend()\n",
    "plt.tight_layout()\n",
    "plt.show()"
   ]
  },
  {
   "cell_type": "markdown",
   "metadata": {},
   "source": [
    "## 로지스틱 모델: sklearn 사용"
   ]
  },
  {
   "cell_type": "code",
   "execution_count": 126,
   "metadata": {},
   "outputs": [],
   "source": [
    "from sklearn.linear_model import LogisticRegression\n",
    "from sklearn.metrics import accuracy_score\n",
    "from sklearn.metrics import confusion_matrix"
   ]
  },
  {
   "cell_type": "markdown",
   "metadata": {},
   "source": [
    "## 모델 생성 및 예측"
   ]
  },
  {
   "cell_type": "code",
   "execution_count": 127,
   "metadata": {},
   "outputs": [
    {
     "name": "stdout",
     "output_type": "stream",
     "text": [
      "0.7691523538860744\n"
     ]
    }
   ],
   "source": [
    "model2 = LogisticRegression()\n",
    "model2.fit(x_train, target_train)\n",
    "print(model2.score(x_train, target_train))"
   ]
  },
  {
   "cell_type": "markdown",
   "metadata": {},
   "source": [
    "## 변수의 계수 확인"
   ]
  },
  {
   "cell_type": "code",
   "execution_count": 128,
   "metadata": {},
   "outputs": [
    {
     "name": "stdout",
     "output_type": "stream",
     "text": [
      "[[ 0.2563199  -3.215666    2.29866199 -1.43500113  0.98838344 -0.33244103\n",
      "   0.21315901  0.65430386 -0.1823756  -0.17769652 -0.2786021   0.09910481\n",
      "  -0.22647793 -0.5284825   0.1454752   1.42448316 -1.55998436 -0.08798585]]\n"
     ]
    }
   ],
   "source": [
    "print(model2.coef_)"
   ]
  },
  {
   "cell_type": "markdown",
   "metadata": {},
   "source": [
    "## 테스트 데이터 예측하기"
   ]
  },
  {
   "cell_type": "code",
   "execution_count": 129,
   "metadata": {},
   "outputs": [],
   "source": [
    "target_pred = model2.predict(x_test)"
   ]
  },
  {
   "cell_type": "markdown",
   "metadata": {},
   "source": [
    "## 예측된 테스트 데이터 검증\n",
    "\n",
    "약 77% 예측률\n",
    "\n",
    "            생존 예측     사망 예측\n",
    "실제 생존 (0)\n",
    "\n",
    "실제 사망 (1)"
   ]
  },
  {
   "cell_type": "code",
   "execution_count": 130,
   "metadata": {},
   "outputs": [
    {
     "data": {
      "text/plain": [
       "0.7712426376704148"
      ]
     },
     "execution_count": 130,
     "metadata": {},
     "output_type": "execute_result"
    }
   ],
   "source": [
    "accuracy_score(target_test, target_pred)"
   ]
  },
  {
   "cell_type": "code",
   "execution_count": 131,
   "metadata": {},
   "outputs": [
    {
     "data": {
      "text/plain": [
       "array([[16668,  1210],\n",
       "       [ 4344,  2057]], dtype=int64)"
      ]
     },
     "execution_count": 131,
     "metadata": {},
     "output_type": "execute_result"
    }
   ],
   "source": [
    "confusion_matrix(target_test, target_pred)"
   ]
  }
 ],
 "metadata": {
  "kernelspec": {
   "display_name": "Python 3",
   "language": "python",
   "name": "python3"
  },
  "language_info": {
   "codemirror_mode": {
    "name": "ipython",
    "version": 3
   },
   "file_extension": ".py",
   "mimetype": "text/x-python",
   "name": "python",
   "nbconvert_exporter": "python",
   "pygments_lexer": "ipython3",
   "version": "3.7.9"
  }
 },
 "nbformat": 4,
 "nbformat_minor": 4
}
