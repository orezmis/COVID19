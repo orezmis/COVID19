{
 "cells": [
  {
   "cell_type": "code",
   "execution_count": 439,
   "metadata": {},
   "outputs": [],
   "source": [
    "import numpy as np\n",
    "import matplotlib.pyplot as plt\n",
    "import pandas as pd\n",
    "import tensorflow as tf\n",
    "\n",
    "from sklearn import preprocessing\n",
    "from sklearn.model_selection import train_test_split\n",
    "\n",
    "from sklearn.metrics import accuracy_score\n",
    "from sklearn.metrics import confusion_matrix\n",
    "from sklearn.metrics import classification_report\n",
    "\n",
    "from sklearn.metrics import roc_curve, precision_score, recall_score, f1_score, accuracy_score, auc"
   ]
  },
  {
   "cell_type": "code",
   "execution_count": 516,
   "metadata": {},
   "outputs": [
    {
     "data": {
      "text/html": [
       "<div>\n",
       "<style scoped>\n",
       "    .dataframe tbody tr th:only-of-type {\n",
       "        vertical-align: middle;\n",
       "    }\n",
       "\n",
       "    .dataframe tbody tr th {\n",
       "        vertical-align: top;\n",
       "    }\n",
       "\n",
       "    .dataframe thead th {\n",
       "        text-align: right;\n",
       "    }\n",
       "</style>\n",
       "<table border=\"1\" class=\"dataframe\">\n",
       "  <thead>\n",
       "    <tr style=\"text-align: right;\">\n",
       "      <th></th>\n",
       "      <th>id</th>\n",
       "      <th>sex</th>\n",
       "      <th>intubed</th>\n",
       "      <th>pneumonia</th>\n",
       "      <th>age</th>\n",
       "      <th>pregnancy</th>\n",
       "      <th>diabetes</th>\n",
       "      <th>copd</th>\n",
       "      <th>asthma</th>\n",
       "      <th>inmsupr</th>\n",
       "      <th>...</th>\n",
       "      <th>tobacco</th>\n",
       "      <th>contact_other_covid</th>\n",
       "      <th>covid_res</th>\n",
       "      <th>icu</th>\n",
       "      <th>DEATH</th>\n",
       "      <th>d_ent</th>\n",
       "      <th>d_sym</th>\n",
       "      <th>d_last</th>\n",
       "      <th>diff_days</th>\n",
       "      <th>age_grp</th>\n",
       "    </tr>\n",
       "  </thead>\n",
       "  <tbody>\n",
       "    <tr>\n",
       "      <th>0</th>\n",
       "      <td>167386</td>\n",
       "      <td>1</td>\n",
       "      <td>2</td>\n",
       "      <td>2</td>\n",
       "      <td>54</td>\n",
       "      <td>2</td>\n",
       "      <td>2</td>\n",
       "      <td>2</td>\n",
       "      <td>2</td>\n",
       "      <td>2</td>\n",
       "      <td>...</td>\n",
       "      <td>2</td>\n",
       "      <td>3</td>\n",
       "      <td>1</td>\n",
       "      <td>2</td>\n",
       "      <td>0</td>\n",
       "      <td>2020-04-06</td>\n",
       "      <td>2020-04-01</td>\n",
       "      <td>2020-06-29</td>\n",
       "      <td>89</td>\n",
       "      <td>3.0</td>\n",
       "    </tr>\n",
       "    <tr>\n",
       "      <th>1</th>\n",
       "      <td>0b5948</td>\n",
       "      <td>2</td>\n",
       "      <td>2</td>\n",
       "      <td>1</td>\n",
       "      <td>30</td>\n",
       "      <td>2</td>\n",
       "      <td>2</td>\n",
       "      <td>2</td>\n",
       "      <td>2</td>\n",
       "      <td>2</td>\n",
       "      <td>...</td>\n",
       "      <td>2</td>\n",
       "      <td>3</td>\n",
       "      <td>1</td>\n",
       "      <td>2</td>\n",
       "      <td>0</td>\n",
       "      <td>2020-04-17</td>\n",
       "      <td>2020-04-10</td>\n",
       "      <td>2020-06-29</td>\n",
       "      <td>80</td>\n",
       "      <td>2.0</td>\n",
       "    </tr>\n",
       "    <tr>\n",
       "      <th>2</th>\n",
       "      <td>0d01b5</td>\n",
       "      <td>1</td>\n",
       "      <td>2</td>\n",
       "      <td>2</td>\n",
       "      <td>60</td>\n",
       "      <td>2</td>\n",
       "      <td>1</td>\n",
       "      <td>2</td>\n",
       "      <td>2</td>\n",
       "      <td>2</td>\n",
       "      <td>...</td>\n",
       "      <td>2</td>\n",
       "      <td>3</td>\n",
       "      <td>1</td>\n",
       "      <td>2</td>\n",
       "      <td>1</td>\n",
       "      <td>2020-04-13</td>\n",
       "      <td>2020-04-13</td>\n",
       "      <td>2020-04-22</td>\n",
       "      <td>9</td>\n",
       "      <td>4.0</td>\n",
       "    </tr>\n",
       "    <tr>\n",
       "      <th>3</th>\n",
       "      <td>1beec8</td>\n",
       "      <td>2</td>\n",
       "      <td>2</td>\n",
       "      <td>1</td>\n",
       "      <td>47</td>\n",
       "      <td>2</td>\n",
       "      <td>1</td>\n",
       "      <td>2</td>\n",
       "      <td>2</td>\n",
       "      <td>2</td>\n",
       "      <td>...</td>\n",
       "      <td>2</td>\n",
       "      <td>3</td>\n",
       "      <td>1</td>\n",
       "      <td>1</td>\n",
       "      <td>1</td>\n",
       "      <td>2020-04-16</td>\n",
       "      <td>2020-04-16</td>\n",
       "      <td>2020-04-29</td>\n",
       "      <td>13</td>\n",
       "      <td>3.0</td>\n",
       "    </tr>\n",
       "    <tr>\n",
       "      <th>4</th>\n",
       "      <td>1.75E+56</td>\n",
       "      <td>2</td>\n",
       "      <td>2</td>\n",
       "      <td>2</td>\n",
       "      <td>63</td>\n",
       "      <td>2</td>\n",
       "      <td>2</td>\n",
       "      <td>2</td>\n",
       "      <td>2</td>\n",
       "      <td>2</td>\n",
       "      <td>...</td>\n",
       "      <td>2</td>\n",
       "      <td>3</td>\n",
       "      <td>1</td>\n",
       "      <td>2</td>\n",
       "      <td>0</td>\n",
       "      <td>2020-04-22</td>\n",
       "      <td>2020-04-13</td>\n",
       "      <td>2020-06-29</td>\n",
       "      <td>77</td>\n",
       "      <td>4.0</td>\n",
       "    </tr>\n",
       "  </tbody>\n",
       "</table>\n",
       "<p>5 rows × 25 columns</p>\n",
       "</div>"
      ],
      "text/plain": [
       "         id  sex  intubed  pneumonia  age  pregnancy  diabetes  copd  asthma  \\\n",
       "0    167386    1        2          2   54          2         2     2       2   \n",
       "1    0b5948    2        2          1   30          2         2     2       2   \n",
       "2    0d01b5    1        2          2   60          2         1     2       2   \n",
       "3    1beec8    2        2          1   47          2         1     2       2   \n",
       "4  1.75E+56    2        2          2   63          2         2     2       2   \n",
       "\n",
       "   inmsupr  ...  tobacco  contact_other_covid  covid_res  icu  DEATH  \\\n",
       "0        2  ...        2                    3          1    2      0   \n",
       "1        2  ...        2                    3          1    2      0   \n",
       "2        2  ...        2                    3          1    2      1   \n",
       "3        2  ...        2                    3          1    1      1   \n",
       "4        2  ...        2                    3          1    2      0   \n",
       "\n",
       "        d_ent       d_sym      d_last  diff_days  age_grp  \n",
       "0  2020-04-06  2020-04-01  2020-06-29         89      3.0  \n",
       "1  2020-04-17  2020-04-10  2020-06-29         80      2.0  \n",
       "2  2020-04-13  2020-04-13  2020-04-22          9      4.0  \n",
       "3  2020-04-16  2020-04-16  2020-04-29         13      3.0  \n",
       "4  2020-04-22  2020-04-13  2020-06-29         77      4.0  \n",
       "\n",
       "[5 rows x 25 columns]"
      ]
     },
     "execution_count": 516,
     "metadata": {},
     "output_type": "execute_result"
    }
   ],
   "source": [
    "df = pd.read_csv(\"C://workspace//project_data//lata//d_final.csv\")\n",
    "df.head()"
   ]
  },
  {
   "cell_type": "code",
   "execution_count": 517,
   "metadata": {
    "scrolled": true
   },
   "outputs": [
    {
     "data": {
      "text/html": [
       "<div>\n",
       "<style scoped>\n",
       "    .dataframe tbody tr th:only-of-type {\n",
       "        vertical-align: middle;\n",
       "    }\n",
       "\n",
       "    .dataframe tbody tr th {\n",
       "        vertical-align: top;\n",
       "    }\n",
       "\n",
       "    .dataframe thead th {\n",
       "        text-align: right;\n",
       "    }\n",
       "</style>\n",
       "<table border=\"1\" class=\"dataframe\">\n",
       "  <thead>\n",
       "    <tr style=\"text-align: right;\">\n",
       "      <th></th>\n",
       "      <th>sex</th>\n",
       "      <th>intubed</th>\n",
       "      <th>pneumonia</th>\n",
       "      <th>age</th>\n",
       "      <th>pregnancy</th>\n",
       "      <th>diabetes</th>\n",
       "      <th>copd</th>\n",
       "      <th>asthma</th>\n",
       "      <th>inmsupr</th>\n",
       "      <th>hypertension</th>\n",
       "      <th>...</th>\n",
       "      <th>obesity</th>\n",
       "      <th>cardiovascular</th>\n",
       "      <th>renal_chronic</th>\n",
       "      <th>tobacco</th>\n",
       "      <th>contact_other_covid</th>\n",
       "      <th>covid_res</th>\n",
       "      <th>icu</th>\n",
       "      <th>DEATH</th>\n",
       "      <th>diff_days</th>\n",
       "      <th>age_grp</th>\n",
       "    </tr>\n",
       "  </thead>\n",
       "  <tbody>\n",
       "    <tr>\n",
       "      <th>count</th>\n",
       "      <td>121395.000000</td>\n",
       "      <td>121395.000000</td>\n",
       "      <td>121395.000000</td>\n",
       "      <td>121395.000000</td>\n",
       "      <td>121395.000000</td>\n",
       "      <td>121395.000000</td>\n",
       "      <td>121395.000000</td>\n",
       "      <td>121395.000000</td>\n",
       "      <td>121395.000000</td>\n",
       "      <td>121395.000000</td>\n",
       "      <td>...</td>\n",
       "      <td>121395.000000</td>\n",
       "      <td>121395.000000</td>\n",
       "      <td>121395.000000</td>\n",
       "      <td>121395.000000</td>\n",
       "      <td>121395.000000</td>\n",
       "      <td>121395.000000</td>\n",
       "      <td>121395.000000</td>\n",
       "      <td>121395.000000</td>\n",
       "      <td>121395.000000</td>\n",
       "      <td>121395.000000</td>\n",
       "    </tr>\n",
       "    <tr>\n",
       "      <th>mean</th>\n",
       "      <td>1.599374</td>\n",
       "      <td>1.919198</td>\n",
       "      <td>1.394950</td>\n",
       "      <td>52.957577</td>\n",
       "      <td>1.992561</td>\n",
       "      <td>1.714560</td>\n",
       "      <td>1.959776</td>\n",
       "      <td>1.979027</td>\n",
       "      <td>1.966770</td>\n",
       "      <td>1.674105</td>\n",
       "      <td>...</td>\n",
       "      <td>1.799275</td>\n",
       "      <td>1.953655</td>\n",
       "      <td>1.945583</td>\n",
       "      <td>1.917081</td>\n",
       "      <td>2.367676</td>\n",
       "      <td>1.557519</td>\n",
       "      <td>1.917987</td>\n",
       "      <td>0.266914</td>\n",
       "      <td>32.845092</td>\n",
       "      <td>3.187380</td>\n",
       "    </tr>\n",
       "    <tr>\n",
       "      <th>std</th>\n",
       "      <td>0.490027</td>\n",
       "      <td>0.276166</td>\n",
       "      <td>0.488859</td>\n",
       "      <td>19.237785</td>\n",
       "      <td>0.100507</td>\n",
       "      <td>0.463632</td>\n",
       "      <td>0.219534</td>\n",
       "      <td>0.173651</td>\n",
       "      <td>0.208078</td>\n",
       "      <td>0.479277</td>\n",
       "      <td>...</td>\n",
       "      <td>0.413378</td>\n",
       "      <td>0.234145</td>\n",
       "      <td>0.247939</td>\n",
       "      <td>0.294203</td>\n",
       "      <td>0.718388</td>\n",
       "      <td>0.694507</td>\n",
       "      <td>0.278025</td>\n",
       "      <td>0.442349</td>\n",
       "      <td>27.360004</td>\n",
       "      <td>0.970514</td>\n",
       "    </tr>\n",
       "    <tr>\n",
       "      <th>min</th>\n",
       "      <td>1.000000</td>\n",
       "      <td>1.000000</td>\n",
       "      <td>1.000000</td>\n",
       "      <td>0.000000</td>\n",
       "      <td>1.000000</td>\n",
       "      <td>1.000000</td>\n",
       "      <td>1.000000</td>\n",
       "      <td>1.000000</td>\n",
       "      <td>1.000000</td>\n",
       "      <td>1.000000</td>\n",
       "      <td>...</td>\n",
       "      <td>1.000000</td>\n",
       "      <td>1.000000</td>\n",
       "      <td>1.000000</td>\n",
       "      <td>1.000000</td>\n",
       "      <td>1.000000</td>\n",
       "      <td>1.000000</td>\n",
       "      <td>1.000000</td>\n",
       "      <td>0.000000</td>\n",
       "      <td>0.000000</td>\n",
       "      <td>1.000000</td>\n",
       "    </tr>\n",
       "    <tr>\n",
       "      <th>25%</th>\n",
       "      <td>1.000000</td>\n",
       "      <td>2.000000</td>\n",
       "      <td>1.000000</td>\n",
       "      <td>42.000000</td>\n",
       "      <td>2.000000</td>\n",
       "      <td>1.000000</td>\n",
       "      <td>2.000000</td>\n",
       "      <td>2.000000</td>\n",
       "      <td>2.000000</td>\n",
       "      <td>1.000000</td>\n",
       "      <td>...</td>\n",
       "      <td>2.000000</td>\n",
       "      <td>2.000000</td>\n",
       "      <td>2.000000</td>\n",
       "      <td>2.000000</td>\n",
       "      <td>2.000000</td>\n",
       "      <td>1.000000</td>\n",
       "      <td>2.000000</td>\n",
       "      <td>0.000000</td>\n",
       "      <td>11.000000</td>\n",
       "      <td>3.000000</td>\n",
       "    </tr>\n",
       "    <tr>\n",
       "      <th>50%</th>\n",
       "      <td>2.000000</td>\n",
       "      <td>2.000000</td>\n",
       "      <td>1.000000</td>\n",
       "      <td>55.000000</td>\n",
       "      <td>2.000000</td>\n",
       "      <td>2.000000</td>\n",
       "      <td>2.000000</td>\n",
       "      <td>2.000000</td>\n",
       "      <td>2.000000</td>\n",
       "      <td>2.000000</td>\n",
       "      <td>...</td>\n",
       "      <td>2.000000</td>\n",
       "      <td>2.000000</td>\n",
       "      <td>2.000000</td>\n",
       "      <td>2.000000</td>\n",
       "      <td>3.000000</td>\n",
       "      <td>1.000000</td>\n",
       "      <td>2.000000</td>\n",
       "      <td>0.000000</td>\n",
       "      <td>24.000000</td>\n",
       "      <td>3.000000</td>\n",
       "    </tr>\n",
       "    <tr>\n",
       "      <th>75%</th>\n",
       "      <td>2.000000</td>\n",
       "      <td>2.000000</td>\n",
       "      <td>2.000000</td>\n",
       "      <td>66.000000</td>\n",
       "      <td>2.000000</td>\n",
       "      <td>2.000000</td>\n",
       "      <td>2.000000</td>\n",
       "      <td>2.000000</td>\n",
       "      <td>2.000000</td>\n",
       "      <td>2.000000</td>\n",
       "      <td>...</td>\n",
       "      <td>2.000000</td>\n",
       "      <td>2.000000</td>\n",
       "      <td>2.000000</td>\n",
       "      <td>2.000000</td>\n",
       "      <td>3.000000</td>\n",
       "      <td>2.000000</td>\n",
       "      <td>2.000000</td>\n",
       "      <td>1.000000</td>\n",
       "      <td>49.000000</td>\n",
       "      <td>4.000000</td>\n",
       "    </tr>\n",
       "    <tr>\n",
       "      <th>max</th>\n",
       "      <td>2.000000</td>\n",
       "      <td>3.000000</td>\n",
       "      <td>3.000000</td>\n",
       "      <td>118.000000</td>\n",
       "      <td>3.000000</td>\n",
       "      <td>3.000000</td>\n",
       "      <td>3.000000</td>\n",
       "      <td>3.000000</td>\n",
       "      <td>3.000000</td>\n",
       "      <td>3.000000</td>\n",
       "      <td>...</td>\n",
       "      <td>3.000000</td>\n",
       "      <td>3.000000</td>\n",
       "      <td>3.000000</td>\n",
       "      <td>3.000000</td>\n",
       "      <td>3.000000</td>\n",
       "      <td>3.000000</td>\n",
       "      <td>3.000000</td>\n",
       "      <td>1.000000</td>\n",
       "      <td>180.000000</td>\n",
       "      <td>5.000000</td>\n",
       "    </tr>\n",
       "  </tbody>\n",
       "</table>\n",
       "<p>8 rows × 21 columns</p>\n",
       "</div>"
      ],
      "text/plain": [
       "                 sex        intubed      pneumonia            age  \\\n",
       "count  121395.000000  121395.000000  121395.000000  121395.000000   \n",
       "mean        1.599374       1.919198       1.394950      52.957577   \n",
       "std         0.490027       0.276166       0.488859      19.237785   \n",
       "min         1.000000       1.000000       1.000000       0.000000   \n",
       "25%         1.000000       2.000000       1.000000      42.000000   \n",
       "50%         2.000000       2.000000       1.000000      55.000000   \n",
       "75%         2.000000       2.000000       2.000000      66.000000   \n",
       "max         2.000000       3.000000       3.000000     118.000000   \n",
       "\n",
       "           pregnancy       diabetes           copd         asthma  \\\n",
       "count  121395.000000  121395.000000  121395.000000  121395.000000   \n",
       "mean        1.992561       1.714560       1.959776       1.979027   \n",
       "std         0.100507       0.463632       0.219534       0.173651   \n",
       "min         1.000000       1.000000       1.000000       1.000000   \n",
       "25%         2.000000       1.000000       2.000000       2.000000   \n",
       "50%         2.000000       2.000000       2.000000       2.000000   \n",
       "75%         2.000000       2.000000       2.000000       2.000000   \n",
       "max         3.000000       3.000000       3.000000       3.000000   \n",
       "\n",
       "             inmsupr   hypertension  ...        obesity  cardiovascular  \\\n",
       "count  121395.000000  121395.000000  ...  121395.000000   121395.000000   \n",
       "mean        1.966770       1.674105  ...       1.799275        1.953655   \n",
       "std         0.208078       0.479277  ...       0.413378        0.234145   \n",
       "min         1.000000       1.000000  ...       1.000000        1.000000   \n",
       "25%         2.000000       1.000000  ...       2.000000        2.000000   \n",
       "50%         2.000000       2.000000  ...       2.000000        2.000000   \n",
       "75%         2.000000       2.000000  ...       2.000000        2.000000   \n",
       "max         3.000000       3.000000  ...       3.000000        3.000000   \n",
       "\n",
       "       renal_chronic        tobacco  contact_other_covid      covid_res  \\\n",
       "count  121395.000000  121395.000000        121395.000000  121395.000000   \n",
       "mean        1.945583       1.917081             2.367676       1.557519   \n",
       "std         0.247939       0.294203             0.718388       0.694507   \n",
       "min         1.000000       1.000000             1.000000       1.000000   \n",
       "25%         2.000000       2.000000             2.000000       1.000000   \n",
       "50%         2.000000       2.000000             3.000000       1.000000   \n",
       "75%         2.000000       2.000000             3.000000       2.000000   \n",
       "max         3.000000       3.000000             3.000000       3.000000   \n",
       "\n",
       "                 icu          DEATH      diff_days        age_grp  \n",
       "count  121395.000000  121395.000000  121395.000000  121395.000000  \n",
       "mean        1.917987       0.266914      32.845092       3.187380  \n",
       "std         0.278025       0.442349      27.360004       0.970514  \n",
       "min         1.000000       0.000000       0.000000       1.000000  \n",
       "25%         2.000000       0.000000      11.000000       3.000000  \n",
       "50%         2.000000       0.000000      24.000000       3.000000  \n",
       "75%         2.000000       1.000000      49.000000       4.000000  \n",
       "max         3.000000       1.000000     180.000000       5.000000  \n",
       "\n",
       "[8 rows x 21 columns]"
      ]
     },
     "execution_count": 517,
     "metadata": {},
     "output_type": "execute_result"
    }
   ],
   "source": [
    "df.describe()"
   ]
  },
  {
   "cell_type": "code",
   "execution_count": 518,
   "metadata": {},
   "outputs": [],
   "source": [
    "t_train_raw = df[['sex', 'intubed','age_grp','pneumonia','pregnancy', 'diabetes', 'copd', 'asthma','inmsupr','hypertension','other_disease','cardiovascular','obesity', 'renal_chronic', 'tobacco', 'contact_other_covid', 'covid_res', 'icu']]\n",
    "target_raw = df['DEATH']"
   ]
  },
  {
   "cell_type": "code",
   "execution_count": 519,
   "metadata": {},
   "outputs": [],
   "source": [
    "## 정규화 적용\n",
    "min_max_scaler = preprocessing.MinMaxScaler()\n",
    "x_scaled = min_max_scaler.fit_transform(t_train_raw)\n",
    "x_train_raw = pd.DataFrame(x_scaled)\n",
    "\n",
    "\n",
    "## train/test 셋 분리\n",
    "x_train, x_test, target_train, target_test = \\\n",
    "    train_test_split(x_train_raw, \n",
    "                     target_raw, \n",
    "                     shuffle = True,\n",
    "                     test_size=0.2,\n",
    "                     random_state = 1004)"
   ]
  },
  {
   "cell_type": "markdown",
   "metadata": {},
   "source": [
    "## 텐서후로우 로지스틱 리그레션"
   ]
  },
  {
   "cell_type": "code",
   "execution_count": 520,
   "metadata": {
    "scrolled": true
   },
   "outputs": [
    {
     "name": "stdout",
     "output_type": "stream",
     "text": [
      "Festures: [0.   0.5  0.25 0.5  0.5  0.5  0.5  0.5  0.5  0.5  0.5  0.5  0.5  0.5\n",
      " 0.5  1.   0.   0.5 ], Target: 0\n",
      "Festures: [0.  0.5 0.5 0.  0.5 0.  0.5 0.5 0.5 0.  0.5 0.  0.5 0.5 0.5 1.  0.  0.5], Target: 0\n",
      "Festures: [1.   0.5  0.75 0.   0.5  0.   0.5  0.5  0.5  0.   0.5  0.5  0.5  0.5\n",
      " 0.5  1.   0.5  0.5 ], Target: 1\n",
      "Festures: [0.   0.5  0.75 0.5  0.5  0.5  0.5  0.5  0.5  0.5  0.5  0.5  0.5  0.5\n",
      " 0.5  0.5  0.   0.5 ], Target: 0\n",
      "Festures: [1.   0.   0.75 0.   0.5  0.5  0.5  0.5  0.5  0.5  0.5  0.5  0.5  0.5\n",
      " 0.5  0.   0.   0.  ], Target: 0\n"
     ]
    }
   ],
   "source": [
    "dataset = tf.data.Dataset.from_tensor_slices((x_train.values, target_train.values))\n",
    "\n",
    "for feat, targ in dataset.take(5):\n",
    "    print('Festures: {}, Target: {}'.format(feat, targ))"
   ]
  },
  {
   "cell_type": "code",
   "execution_count": 521,
   "metadata": {},
   "outputs": [],
   "source": [
    "train_dataset = dataset.batch(100)\n",
    "\n",
    "\n",
    "## 4개 히든층, 각각 10개, 8개, 4개, 1개 출력부, relu와 sigmoid 함수적용 \n",
    "\n",
    "def get_compiled_model():\n",
    "    \n",
    "    model = tf.keras.Sequential([\n",
    "        tf.keras.layers.Dense(512, kernel_initializer='glorot_uniform',\\\n",
    "                             activation='relu'),\n",
    "        tf.keras.layers.Dense(256, activation='sigmoid'),\n",
    "        tf.keras.layers.Dense(128, activation='sigmoid'),\n",
    "        tf.keras.layers.Dense(1, activation='sigmoid')\n",
    "    ])\n",
    "    \n",
    "    model.compile(optimizer='adam',\n",
    "                 loss=tf.keras.losses.BinaryCrossentropy(from_logits=False),\n",
    "                 metrics=['binary_accuracy'])\n",
    "    return model"
   ]
  },
  {
   "cell_type": "code",
   "execution_count": null,
   "metadata": {},
   "outputs": [
    {
     "name": "stdout",
     "output_type": "stream",
     "text": [
      "Train for 972 steps, validate on 24279 samples\n",
      "Epoch 1/15\n",
      "972/972 - 3s - loss: 0.4900 - binary_accuracy: 0.7649 - val_loss: 0.4855 - val_binary_accuracy: 0.7668\n",
      "Epoch 2/15\n",
      "972/972 - 2s - loss: 0.4803 - binary_accuracy: 0.7714 - val_loss: 0.4828 - val_binary_accuracy: 0.7685\n",
      "Epoch 3/15\n",
      "972/972 - 2s - loss: 0.4788 - binary_accuracy: 0.7720 - val_loss: 0.4812 - val_binary_accuracy: 0.7689\n",
      "Epoch 4/15\n",
      "972/972 - 2s - loss: 0.4779 - binary_accuracy: 0.7727 - val_loss: 0.4806 - val_binary_accuracy: 0.7700\n",
      "Epoch 5/15\n",
      "972/972 - 2s - loss: 0.4773 - binary_accuracy: 0.7731 - val_loss: 0.4803 - val_binary_accuracy: 0.7695\n",
      "Epoch 6/15\n",
      "972/972 - 2s - loss: 0.4768 - binary_accuracy: 0.7735 - val_loss: 0.4804 - val_binary_accuracy: 0.7692\n",
      "Epoch 7/15\n",
      "972/972 - 2s - loss: 0.4763 - binary_accuracy: 0.7736 - val_loss: 0.4806 - val_binary_accuracy: 0.7691\n",
      "Epoch 8/15\n",
      "972/972 - 2s - loss: 0.4760 - binary_accuracy: 0.7738 - val_loss: 0.4808 - val_binary_accuracy: 0.7687\n",
      "Epoch 9/15\n",
      "972/972 - 2s - loss: 0.4756 - binary_accuracy: 0.7742 - val_loss: 0.4815 - val_binary_accuracy: 0.7684\n",
      "Epoch 10/15\n",
      "972/972 - 2s - loss: 0.4753 - binary_accuracy: 0.7741 - val_loss: 0.4817 - val_binary_accuracy: 0.7683\n",
      "Epoch 11/15\n",
      "972/972 - 2s - loss: 0.4750 - binary_accuracy: 0.7743 - val_loss: 0.4823 - val_binary_accuracy: 0.7677\n",
      "Epoch 12/15\n",
      "972/972 - 2s - loss: 0.4747 - binary_accuracy: 0.7744 - val_loss: 0.4823 - val_binary_accuracy: 0.7682\n",
      "Epoch 13/15\n"
     ]
    }
   ],
   "source": [
    "## 학습과 동시에 검증을 하도록 구성하였읍니다\n",
    "\n",
    "model = get_compiled_model()\n",
    "\n",
    "hist = model.fit(train_dataset, epochs=15,\n",
    "         validation_data=(x_test, target_test),\n",
    "         validation_steps=100,\n",
    "         verbose=2)         "
   ]
  },
  {
   "cell_type": "code",
   "execution_count": 447,
   "metadata": {},
   "outputs": [
    {
     "name": "stdout",
     "output_type": "stream",
     "text": [
      "24279/24279 - 1s - loss: 0.4825 - binary_accuracy: 0.7686\n"
     ]
    }
   ],
   "source": [
    "## 위에서 검증데이터를 평가해보았지만 또 한번 해본결과\n",
    "\n",
    "score = model.evaluate(x_test, target_test, verbose=2)"
   ]
  },
  {
   "cell_type": "code",
   "execution_count": 507,
   "metadata": {},
   "outputs": [
    {
     "data": {
      "image/png": "[encoded data removed]",
      "text/plain": [
       "<Figure size 576x288 with 2 Axes>"
      ]
     },
     "metadata": {
      "needs_background": "light"
     },
     "output_type": "display_data"
    }
   ],
   "source": [
    "plt.figure(figsize=(8, 4))\n",
    "plt.subplot(1,2,1)\n",
    "plt.plot(hist.history['loss'])\n",
    "plt.title(\"loss\")\n",
    "plt.subplot(1,2,2)\n",
    "plt.title(\"accuracy\")\n",
    "plt.plot(hist.history['binary_accuracy'], 'b-', label=\"training\")\n",
    "plt.plot(hist.history['val_binary_accuracy'], 'r:', label=\"validation\")\n",
    "plt.legend()\n",
    "plt.tight_layout()\n",
    "plt.show()"
   ]
  },
  {
   "cell_type": "markdown",
   "metadata": {},
   "source": [
    "### classification_report"
   ]
  },
  {
   "cell_type": "code",
   "execution_count": 508,
   "metadata": {},
   "outputs": [],
   "source": [
    "target_pred = model.predict(x_test)\n",
    "\n",
    "# target_pred 의 결과는 float 형식으로 반환된다\n",
    "# One hot encoding 변환이 필요하며, 패키지 도움 없이 아래와 같이 변환할 수 있다\n",
    "\n",
    "df_pred = pd.DataFrame(target_pred, columns=['Y_pred'])\n",
    "Y_pred = df_pred['Y_pred'].apply(lambda x : 1 if x >= 0.5 else 0)"
   ]
  },
  {
   "cell_type": "code",
   "execution_count": 509,
   "metadata": {},
   "outputs": [
    {
     "name": "stdout",
     "output_type": "stream",
     "text": [
      "              precision    recall  f1-score   support\n",
      "\n",
      "           0       0.79      0.93      0.85     17772\n",
      "           1       0.63      0.33      0.43      6507\n",
      "\n",
      "    accuracy                           0.77     24279\n",
      "   macro avg       0.71      0.63      0.64     24279\n",
      "weighted avg       0.75      0.77      0.74     24279\n",
      "\n"
     ]
    }
   ],
   "source": [
    "print(classification_report(target_test, Y_pred))"
   ]
  },
  {
   "cell_type": "markdown",
   "metadata": {},
   "source": [
    "* 생존(0) 이라고 예측한 데이터의 79%만 실제로 생존 (precision)\n",
    "* 사망(1) 이라고 예측한 데이터의 63%만 실제로 사망\n",
    "* 실제 생존인 데이터중의 93%가 생존으로 예측되었음 (recall)\n",
    "* 실제 사망인 데이터중의 33%만 사망으로 예측되었음\n",
    "* 모델 정확도 77%"
   ]
  },
  {
   "cell_type": "code",
   "execution_count": 512,
   "metadata": {},
   "outputs": [
    {
     "name": "stdout",
     "output_type": "stream",
     "text": [
      "accuracy : 0.769\n",
      "recall : 0.327\n",
      "f1_score : 0.431\n"
     ]
    }
   ],
   "source": [
    "print('accuracy : %.3f' % accuracy_score(y_true = target_test, y_pred=Y_pred))\n",
    "print('recall : %.3f' % recall_score(y_true = target_test, y_pred=Y_pred))\n",
    "print('f1_score : %.3f' % f1_score(y_true = target_test, y_pred=Y_pred))"
   ]
  },
  {
   "cell_type": "code",
   "execution_count": 513,
   "metadata": {},
   "outputs": [],
   "source": [
    "f_value = model.predict_proba(x_test)"
   ]
  },
  {
   "cell_type": "code",
   "execution_count": 514,
   "metadata": {},
   "outputs": [
    {
     "data": {
      "text/plain": [
       "(array([0.00000000e+00, 1.12536574e-04, 1.12536574e-04, ...,\n",
       "        9.99606122e-01, 9.99774927e-01, 1.00000000e+00]),\n",
       " array([0.00000000e+00, 0.00000000e+00, 3.07361303e-04, ...,\n",
       "        1.00000000e+00, 1.00000000e+00, 1.00000000e+00]),\n",
       " array([1.7796165 , 0.7796165 , 0.77672946, ..., 0.00783087, 0.00782301,\n",
       "        0.00735432], dtype=float32))"
      ]
     },
     "execution_count": 514,
     "metadata": {},
     "output_type": "execute_result"
    }
   ],
   "source": [
    "fpr, tpr, thresholds = roc_curve(target_test, f_value[:,0])\n",
    "fpr, tpr, thresholds"
   ]
  },
  {
   "cell_type": "code",
   "execution_count": 515,
   "metadata": {},
   "outputs": [
    {
     "data": {
      "image/png": "[encoded data removed]",
      "text/plain": [
       "<Figure size 432x288 with 1 Axes>"
      ]
     },
     "metadata": {
      "needs_background": "light"
     },
     "output_type": "display_data"
    }
   ],
   "source": [
    "plt.plot(fpr, tpr, 'o-', label=\"Logistic Regression (AUC=%0.3f)\")\n",
    "plt.plot([0, 1], [0, 1], 'k--', label=\"random guess\")\n",
    "plt.xlabel('Talse positive rate')\n",
    "plt.ylabel('True positive rate')\n",
    "plt.title('Classification - Logistic_dnn')\n",
    "plt.show()"
   ]
  },
  {
   "cell_type": "code",
   "execution_count": 454,
   "metadata": {},
   "outputs": [
    {
     "name": "stdout",
     "output_type": "stream",
     "text": [
      "AUC : 0.779\n"
     ]
    }
   ],
   "source": [
    "print('AUC : %.3f' % auc(fpr, tpr))"
   ]
  },
  {
   "cell_type": "code",
   "execution_count": 455,
   "metadata": {},
   "outputs": [],
   "source": [
    "d_tpr = pd.DataFrame({'tpr':tpr} )\n",
    "d_fpr = pd.DataFrame({'fpr':fpr} )"
   ]
  },
  {
   "cell_type": "code",
   "execution_count": 456,
   "metadata": {},
   "outputs": [
    {
     "data": {
      "text/html": [
       "<div>\n",
       "<style scoped>\n",
       "    .dataframe tbody tr th:only-of-type {\n",
       "        vertical-align: middle;\n",
       "    }\n",
       "\n",
       "    .dataframe tbody tr th {\n",
       "        vertical-align: top;\n",
       "    }\n",
       "\n",
       "    .dataframe thead th {\n",
       "        text-align: right;\n",
       "    }\n",
       "</style>\n",
       "<table border=\"1\" class=\"dataframe\">\n",
       "  <thead>\n",
       "    <tr style=\"text-align: right;\">\n",
       "      <th></th>\n",
       "      <th>tpr</th>\n",
       "      <th>fpr</th>\n",
       "    </tr>\n",
       "  </thead>\n",
       "  <tbody>\n",
       "    <tr>\n",
       "      <th>0</th>\n",
       "      <td>0.000000</td>\n",
       "      <td>0.000000</td>\n",
       "    </tr>\n",
       "    <tr>\n",
       "      <th>1</th>\n",
       "      <td>0.000000</td>\n",
       "      <td>0.000113</td>\n",
       "    </tr>\n",
       "    <tr>\n",
       "      <th>2</th>\n",
       "      <td>0.000307</td>\n",
       "      <td>0.000113</td>\n",
       "    </tr>\n",
       "    <tr>\n",
       "      <th>3</th>\n",
       "      <td>0.000461</td>\n",
       "      <td>0.000169</td>\n",
       "    </tr>\n",
       "    <tr>\n",
       "      <th>4</th>\n",
       "      <td>0.001076</td>\n",
       "      <td>0.000169</td>\n",
       "    </tr>\n",
       "    <tr>\n",
       "      <th>...</th>\n",
       "      <td>...</td>\n",
       "      <td>...</td>\n",
       "    </tr>\n",
       "    <tr>\n",
       "      <th>4567</th>\n",
       "      <td>1.000000</td>\n",
       "      <td>0.998087</td>\n",
       "    </tr>\n",
       "    <tr>\n",
       "      <th>4568</th>\n",
       "      <td>1.000000</td>\n",
       "      <td>0.998256</td>\n",
       "    </tr>\n",
       "    <tr>\n",
       "      <th>4569</th>\n",
       "      <td>1.000000</td>\n",
       "      <td>0.999606</td>\n",
       "    </tr>\n",
       "    <tr>\n",
       "      <th>4570</th>\n",
       "      <td>1.000000</td>\n",
       "      <td>0.999775</td>\n",
       "    </tr>\n",
       "    <tr>\n",
       "      <th>4571</th>\n",
       "      <td>1.000000</td>\n",
       "      <td>1.000000</td>\n",
       "    </tr>\n",
       "  </tbody>\n",
       "</table>\n",
       "<p>4572 rows × 2 columns</p>\n",
       "</div>"
      ],
      "text/plain": [
       "           tpr       fpr\n",
       "0     0.000000  0.000000\n",
       "1     0.000000  0.000113\n",
       "2     0.000307  0.000113\n",
       "3     0.000461  0.000169\n",
       "4     0.001076  0.000169\n",
       "...        ...       ...\n",
       "4567  1.000000  0.998087\n",
       "4568  1.000000  0.998256\n",
       "4569  1.000000  0.999606\n",
       "4570  1.000000  0.999775\n",
       "4571  1.000000  1.000000\n",
       "\n",
       "[4572 rows x 2 columns]"
      ]
     },
     "execution_count": 456,
     "metadata": {},
     "output_type": "execute_result"
    }
   ],
   "source": [
    "clf_LRdnn = pd.concat([d_tpr, d_fpr], axis = 1)\n",
    "clf_LRdnn"
   ]
  },
  {
   "cell_type": "code",
   "execution_count": 457,
   "metadata": {},
   "outputs": [],
   "source": [
    "clf_LRdnn.to_csv(\"C://workspace//project_data//lata//processed//clf_LRdnn.csv\", encoding='utf-8', index=False, line_terminator='\\n')"
   ]
  },
  {
   "cell_type": "markdown",
   "metadata": {},
   "source": [
    "## =========================================="
   ]
  },
  {
   "cell_type": "markdown",
   "metadata": {},
   "source": [
    "## 로지스틱 모델: sklearn 사용"
   ]
  },
  {
   "cell_type": "code",
   "execution_count": 458,
   "metadata": {},
   "outputs": [],
   "source": [
    "from sklearn.linear_model import LogisticRegression"
   ]
  },
  {
   "cell_type": "markdown",
   "metadata": {},
   "source": [
    "* 모델 생성 및 예측"
   ]
  },
  {
   "cell_type": "code",
   "execution_count": 459,
   "metadata": {},
   "outputs": [
    {
     "name": "stdout",
     "output_type": "stream",
     "text": [
      "0.7706454137320318\n"
     ]
    }
   ],
   "source": [
    "model1 = LogisticRegression()\n",
    "skl_model = model1.fit(x_train, target_train)\n",
    "print(model1.score(x_train, target_train))"
   ]
  },
  {
   "cell_type": "markdown",
   "metadata": {},
   "source": [
    "* 변수의 계수 확인"
   ]
  },
  {
   "cell_type": "code",
   "execution_count": 460,
   "metadata": {},
   "outputs": [
    {
     "name": "stdout",
     "output_type": "stream",
     "text": [
      "[[ 0.24382325 -3.24616662  2.26895069 -1.47764378  1.02885684 -0.31457217\n",
      "   0.16896247  0.57557721 -0.20514757 -0.18830546 -0.32145499  0.15762325\n",
      "  -0.19474336 -0.53913064  0.17613582  1.43251355 -1.57323885 -0.10043573]]\n"
     ]
    }
   ],
   "source": [
    "print(model1.coef_)"
   ]
  },
  {
   "cell_type": "markdown",
   "metadata": {},
   "source": [
    "* 테스트 데이터 예측하기"
   ]
  },
  {
   "cell_type": "code",
   "execution_count": 505,
   "metadata": {},
   "outputs": [
    {
     "data": {
      "text/plain": [
       "(24279,)"
      ]
     },
     "execution_count": 505,
     "metadata": {},
     "output_type": "execute_result"
    }
   ],
   "source": [
    "target_pred1 = model1.predict(x_test)\n",
    "target_pred1.shape"
   ]
  },
  {
   "cell_type": "markdown",
   "metadata": {},
   "source": [
    "* 예측된 테스트 데이터 검증"
   ]
  },
  {
   "cell_type": "code",
   "execution_count": 462,
   "metadata": {},
   "outputs": [
    {
     "data": {
      "text/plain": [
       "0.7652703982865852"
      ]
     },
     "execution_count": 462,
     "metadata": {},
     "output_type": "execute_result"
    }
   ],
   "source": [
    "accuracy_score(target_test, target_pred1)"
   ]
  },
  {
   "cell_type": "markdown",
   "metadata": {},
   "source": [
    "### classification_report"
   ]
  },
  {
   "cell_type": "code",
   "execution_count": 463,
   "metadata": {},
   "outputs": [
    {
     "name": "stdout",
     "output_type": "stream",
     "text": [
      "               precision    recall  f1-score   support\n",
      "\n",
      "pred_alive(0)       0.79      0.93      0.85     17772\n",
      " pred_dead(1)       0.62      0.31      0.42      6507\n",
      "\n",
      "     accuracy                           0.77     24279\n",
      "    macro avg       0.71      0.62      0.63     24279\n",
      " weighted avg       0.74      0.77      0.74     24279\n",
      "\n"
     ]
    }
   ],
   "source": [
    "print(classification_report(target_test, target_pred1, target_names= \\\n",
    "                            ['pred_alive(0)', 'pred_dead(1)']))"
   ]
  },
  {
   "cell_type": "markdown",
   "metadata": {},
   "source": [
    "* 생존(0) 이라고 예측한 데이터의 79%만 실제로 생존 (precision)\n",
    "* 사망(1) 이라고 예측한 데이터의 62%만 실제로 사망\n",
    "* 실제 생존인 데이터중의 93%가 생존으로 예측되었음 (recall)\n",
    "* 실제 사망인 데이터중의 31%만 사망으로 예측되었음\n",
    "* 모델 정확도 77%"
   ]
  },
  {
   "cell_type": "code",
   "execution_count": 464,
   "metadata": {},
   "outputs": [],
   "source": [
    "f_value1 = model1.decision_function(x_test)"
   ]
  },
  {
   "cell_type": "code",
   "execution_count": 465,
   "metadata": {},
   "outputs": [
    {
     "data": {
      "text/html": [
       "<div>\n",
       "<style scoped>\n",
       "    .dataframe tbody tr th:only-of-type {\n",
       "        vertical-align: middle;\n",
       "    }\n",
       "\n",
       "    .dataframe tbody tr th {\n",
       "        vertical-align: top;\n",
       "    }\n",
       "\n",
       "    .dataframe thead th {\n",
       "        text-align: right;\n",
       "    }\n",
       "</style>\n",
       "<table border=\"1\" class=\"dataframe\">\n",
       "  <thead>\n",
       "    <tr style=\"text-align: right;\">\n",
       "      <th></th>\n",
       "      <th>F</th>\n",
       "      <th>target_pred</th>\n",
       "      <th>target_test</th>\n",
       "    </tr>\n",
       "  </thead>\n",
       "  <tbody>\n",
       "    <tr>\n",
       "      <th>0</th>\n",
       "      <td>2.962395</td>\n",
       "      <td>1.0</td>\n",
       "      <td>1.0</td>\n",
       "    </tr>\n",
       "    <tr>\n",
       "      <th>1</th>\n",
       "      <td>2.739984</td>\n",
       "      <td>1.0</td>\n",
       "      <td>1.0</td>\n",
       "    </tr>\n",
       "    <tr>\n",
       "      <th>2</th>\n",
       "      <td>2.645831</td>\n",
       "      <td>1.0</td>\n",
       "      <td>1.0</td>\n",
       "    </tr>\n",
       "    <tr>\n",
       "      <th>3</th>\n",
       "      <td>2.535544</td>\n",
       "      <td>1.0</td>\n",
       "      <td>1.0</td>\n",
       "    </tr>\n",
       "    <tr>\n",
       "      <th>4</th>\n",
       "      <td>2.535544</td>\n",
       "      <td>1.0</td>\n",
       "      <td>0.0</td>\n",
       "    </tr>\n",
       "    <tr>\n",
       "      <th>...</th>\n",
       "      <td>...</td>\n",
       "      <td>...</td>\n",
       "      <td>...</td>\n",
       "    </tr>\n",
       "    <tr>\n",
       "      <th>24274</th>\n",
       "      <td>-5.489258</td>\n",
       "      <td>0.0</td>\n",
       "      <td>0.0</td>\n",
       "    </tr>\n",
       "    <tr>\n",
       "      <th>24275</th>\n",
       "      <td>-5.537745</td>\n",
       "      <td>0.0</td>\n",
       "      <td>0.0</td>\n",
       "    </tr>\n",
       "    <tr>\n",
       "      <th>24276</th>\n",
       "      <td>-5.617178</td>\n",
       "      <td>0.0</td>\n",
       "      <td>0.0</td>\n",
       "    </tr>\n",
       "    <tr>\n",
       "      <th>24277</th>\n",
       "      <td>-5.652947</td>\n",
       "      <td>0.0</td>\n",
       "      <td>0.0</td>\n",
       "    </tr>\n",
       "    <tr>\n",
       "      <th>24278</th>\n",
       "      <td>-5.652947</td>\n",
       "      <td>0.0</td>\n",
       "      <td>0.0</td>\n",
       "    </tr>\n",
       "  </tbody>\n",
       "</table>\n",
       "<p>24279 rows × 3 columns</p>\n",
       "</div>"
      ],
      "text/plain": [
       "              F  target_pred  target_test\n",
       "0      2.962395          1.0          1.0\n",
       "1      2.739984          1.0          1.0\n",
       "2      2.645831          1.0          1.0\n",
       "3      2.535544          1.0          1.0\n",
       "4      2.535544          1.0          0.0\n",
       "...         ...          ...          ...\n",
       "24274 -5.489258          0.0          0.0\n",
       "24275 -5.537745          0.0          0.0\n",
       "24276 -5.617178          0.0          0.0\n",
       "24277 -5.652947          0.0          0.0\n",
       "24278 -5.652947          0.0          0.0\n",
       "\n",
       "[24279 rows x 3 columns]"
      ]
     },
     "execution_count": 465,
     "metadata": {},
     "output_type": "execute_result"
    }
   ],
   "source": [
    "dataseed = pd.DataFrame(np.vstack([f_value1, target_pred1, target_test]).T, columns=[\"F\", \"target_pred\", \"target_test\"])\n",
    "dataseed.sort_values(\"F\", ascending=False).reset_index(drop=True)"
   ]
  },
  {
   "cell_type": "code",
   "execution_count": 393,
   "metadata": {},
   "outputs": [
    {
     "data": {
      "text/plain": [
       "array([[ 2022,  4485],\n",
       "       [ 1214, 16558]], dtype=int64)"
      ]
     },
     "execution_count": 393,
     "metadata": {},
     "output_type": "execute_result"
    }
   ],
   "source": [
    "confusion_matrix(target_test, target_pred1, labels=[1, 0])"
   ]
  },
  {
   "cell_type": "code",
   "execution_count": 394,
   "metadata": {},
   "outputs": [
    {
     "name": "stdout",
     "output_type": "stream",
     "text": [
      "recall = 0.32340215106935344\n",
      "fallout = 0.06689128481581312\n"
     ]
    }
   ],
   "source": [
    "recall1 = 2616 / (2616 + 5473)\n",
    "fallout1 = 1489 / (1489 + 20771)\n",
    "print(\"recall =\", recall)\n",
    "print(\"fallout =\", fallout)"
   ]
  },
  {
   "cell_type": "code",
   "execution_count": 395,
   "metadata": {},
   "outputs": [
    {
     "data": {
      "text/plain": [
       "(array([0.        , 0.        , 0.        , ..., 0.99977493, 0.99988746,\n",
       "        1.        ]),\n",
       " array([0.00000000e+00, 1.53680652e-04, 4.61041955e-04, ...,\n",
       "        1.00000000e+00, 1.00000000e+00, 1.00000000e+00]),\n",
       " array([ 3.96239511,  2.96239511,  2.64583088, ..., -5.48925843,\n",
       "        -5.6171781 , -5.65294717]))"
      ]
     },
     "execution_count": 395,
     "metadata": {},
     "output_type": "execute_result"
    }
   ],
   "source": [
    "fpr1, tpr1, thresholds1 = roc_curve(target_test, f_value1)\n",
    "fpr1, tpr1, thresholds1"
   ]
  },
  {
   "cell_type": "code",
   "execution_count": 396,
   "metadata": {},
   "outputs": [
    {
     "data": {
      "image/png": "[encoded data removed]",
      "text/plain": [
       "<Figure size 432x288 with 1 Axes>"
      ]
     },
     "metadata": {
      "needs_background": "light"
     },
     "output_type": "display_data"
    }
   ],
   "source": [
    "plt.plot(fpr1, tpr1, 'o-', label=\"Logistic Regression\")\n",
    "plt.plot([0, 1], [0, 1], 'k--', label=\"random guess\")\n",
    "plt.xlabel('Talse positive rate')\n",
    "plt.ylabel('True positive rate')\n",
    "plt.title('Classification - Logistic_sklearn')\n",
    "plt.show()"
   ]
  },
  {
   "cell_type": "code",
   "execution_count": 397,
   "metadata": {},
   "outputs": [
    {
     "name": "stdout",
     "output_type": "stream",
     "text": [
      "AUC : 0.772\n"
     ]
    }
   ],
   "source": [
    "print('AUC : %.3f' % auc(fpr, tpr))"
   ]
  },
  {
   "cell_type": "markdown",
   "metadata": {},
   "source": [
    "#### TPR, FPR export"
   ]
  },
  {
   "cell_type": "code",
   "execution_count": 340,
   "metadata": {},
   "outputs": [],
   "source": [
    "d_tpr1 = pd.DataFrame({'tpr':tpr1})\n",
    "d_fpr1 = pd.DataFrame({'fpr':fpr1})"
   ]
  },
  {
   "cell_type": "code",
   "execution_count": 341,
   "metadata": {},
   "outputs": [
    {
     "data": {
      "text/html": [
       "<div>\n",
       "<style scoped>\n",
       "    .dataframe tbody tr th:only-of-type {\n",
       "        vertical-align: middle;\n",
       "    }\n",
       "\n",
       "    .dataframe tbody tr th {\n",
       "        vertical-align: top;\n",
       "    }\n",
       "\n",
       "    .dataframe thead th {\n",
       "        text-align: right;\n",
       "    }\n",
       "</style>\n",
       "<table border=\"1\" class=\"dataframe\">\n",
       "  <thead>\n",
       "    <tr style=\"text-align: right;\">\n",
       "      <th></th>\n",
       "      <th>tpr</th>\n",
       "      <th>fpr</th>\n",
       "    </tr>\n",
       "  </thead>\n",
       "  <tbody>\n",
       "    <tr>\n",
       "      <th>0</th>\n",
       "      <td>0.000000</td>\n",
       "      <td>0.000000</td>\n",
       "    </tr>\n",
       "    <tr>\n",
       "      <th>1</th>\n",
       "      <td>0.000154</td>\n",
       "      <td>0.000000</td>\n",
       "    </tr>\n",
       "    <tr>\n",
       "      <th>2</th>\n",
       "      <td>0.000461</td>\n",
       "      <td>0.000000</td>\n",
       "    </tr>\n",
       "    <tr>\n",
       "      <th>3</th>\n",
       "      <td>0.000615</td>\n",
       "      <td>0.000056</td>\n",
       "    </tr>\n",
       "    <tr>\n",
       "      <th>4</th>\n",
       "      <td>0.000922</td>\n",
       "      <td>0.000056</td>\n",
       "    </tr>\n",
       "    <tr>\n",
       "      <th>...</th>\n",
       "      <td>...</td>\n",
       "      <td>...</td>\n",
       "    </tr>\n",
       "    <tr>\n",
       "      <th>4447</th>\n",
       "      <td>1.000000</td>\n",
       "      <td>0.999494</td>\n",
       "    </tr>\n",
       "    <tr>\n",
       "      <th>4448</th>\n",
       "      <td>1.000000</td>\n",
       "      <td>0.999662</td>\n",
       "    </tr>\n",
       "    <tr>\n",
       "      <th>4449</th>\n",
       "      <td>1.000000</td>\n",
       "      <td>0.999775</td>\n",
       "    </tr>\n",
       "    <tr>\n",
       "      <th>4450</th>\n",
       "      <td>1.000000</td>\n",
       "      <td>0.999887</td>\n",
       "    </tr>\n",
       "    <tr>\n",
       "      <th>4451</th>\n",
       "      <td>1.000000</td>\n",
       "      <td>1.000000</td>\n",
       "    </tr>\n",
       "  </tbody>\n",
       "</table>\n",
       "<p>4452 rows × 2 columns</p>\n",
       "</div>"
      ],
      "text/plain": [
       "           tpr       fpr\n",
       "0     0.000000  0.000000\n",
       "1     0.000154  0.000000\n",
       "2     0.000461  0.000000\n",
       "3     0.000615  0.000056\n",
       "4     0.000922  0.000056\n",
       "...        ...       ...\n",
       "4447  1.000000  0.999494\n",
       "4448  1.000000  0.999662\n",
       "4449  1.000000  0.999775\n",
       "4450  1.000000  0.999887\n",
       "4451  1.000000  1.000000\n",
       "\n",
       "[4452 rows x 2 columns]"
      ]
     },
     "execution_count": 341,
     "metadata": {},
     "output_type": "execute_result"
    }
   ],
   "source": [
    "clf_LRskl = pd.concat([d_tpr1, d_fpr1], axis = 1)\n",
    "clf_LRskl"
   ]
  },
  {
   "cell_type": "code",
   "execution_count": 342,
   "metadata": {},
   "outputs": [],
   "source": [
    "clf_LRskl.to_csv(\"C://workspace//project_data//lata//processed//clf_LRskl.csv\", encoding='utf-8', index=False, line_terminator='\\n')"
   ]
  }
 ],
 "metadata": {
  "kernelspec": {
   "display_name": "Python 3",
   "language": "python",
   "name": "python3"
  },
  "language_info": {
   "codemirror_mode": {
    "name": "ipython",
    "version": 3
   },
   "file_extension": ".py",
   "mimetype": "text/x-python",
   "name": "python",
   "nbconvert_exporter": "python",
   "pygments_lexer": "ipython3",
   "version": "3.7.9"
  }
 },
 "nbformat": 4,
 "nbformat_minor": 4
}
