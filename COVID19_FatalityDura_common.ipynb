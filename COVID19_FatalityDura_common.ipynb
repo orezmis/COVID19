{
 "cells": [
  {
   "cell_type": "markdown",
   "metadata": {},
   "source": [
    "## 텐서후로우 1 버전 이용 DNN과 OLS 사용한\n",
    "## 사망 기간 예측 Linear Regression"
   ]
  },
  {
   "cell_type": "code",
   "execution_count": 145,
   "metadata": {},
   "outputs": [],
   "source": [
    "import numpy as np\n",
    "import matplotlib.pyplot as plt\n",
    "import pandas as pd\n",
    "import tensorflow as tf\n",
    "\n",
    "from sklearn import preprocessing\n",
    "from sklearn.model_selection import train_test_split\n",
    "\n",
    "from sklearn.metrics import accuracy_score\n",
    "from sklearn.metrics import confusion_matrix\n",
    "from sklearn.metrics import classification_report\n",
    "from sklearn.metrics import mean_squared_error\n",
    "\n",
    "from sklearn.metrics import roc_curve, precision_score, recall_score, f1_score, accuracy_score, auc\n",
    "\n",
    "import statsmodels.api as sm"
   ]
  },
  {
   "cell_type": "code",
   "execution_count": 146,
   "metadata": {},
   "outputs": [
    {
     "data": {
      "text/html": [
       "<div>\n",
       "<style scoped>\n",
       "    .dataframe tbody tr th:only-of-type {\n",
       "        vertical-align: middle;\n",
       "    }\n",
       "\n",
       "    .dataframe tbody tr th {\n",
       "        vertical-align: top;\n",
       "    }\n",
       "\n",
       "    .dataframe thead th {\n",
       "        text-align: right;\n",
       "    }\n",
       "</style>\n",
       "<table border=\"1\" class=\"dataframe\">\n",
       "  <thead>\n",
       "    <tr style=\"text-align: right;\">\n",
       "      <th></th>\n",
       "      <th>id</th>\n",
       "      <th>sex</th>\n",
       "      <th>intubed</th>\n",
       "      <th>pneumonia</th>\n",
       "      <th>age</th>\n",
       "      <th>pregnancy</th>\n",
       "      <th>diabetes</th>\n",
       "      <th>copd</th>\n",
       "      <th>asthma</th>\n",
       "      <th>inmsupr</th>\n",
       "      <th>...</th>\n",
       "      <th>tobacco</th>\n",
       "      <th>contact_other_covid</th>\n",
       "      <th>covid_res</th>\n",
       "      <th>icu</th>\n",
       "      <th>DEATH</th>\n",
       "      <th>d_ent</th>\n",
       "      <th>d_sym</th>\n",
       "      <th>d_last</th>\n",
       "      <th>diff_days</th>\n",
       "      <th>age_grp</th>\n",
       "    </tr>\n",
       "  </thead>\n",
       "  <tbody>\n",
       "    <tr>\n",
       "      <th>0</th>\n",
       "      <td>167386</td>\n",
       "      <td>1</td>\n",
       "      <td>2</td>\n",
       "      <td>2</td>\n",
       "      <td>54</td>\n",
       "      <td>2</td>\n",
       "      <td>2</td>\n",
       "      <td>2</td>\n",
       "      <td>2</td>\n",
       "      <td>2</td>\n",
       "      <td>...</td>\n",
       "      <td>2</td>\n",
       "      <td>3</td>\n",
       "      <td>1</td>\n",
       "      <td>2</td>\n",
       "      <td>0</td>\n",
       "      <td>2020-04-06</td>\n",
       "      <td>2020-04-01</td>\n",
       "      <td>2020-06-29</td>\n",
       "      <td>89</td>\n",
       "      <td>3.0</td>\n",
       "    </tr>\n",
       "    <tr>\n",
       "      <th>1</th>\n",
       "      <td>0b5948</td>\n",
       "      <td>2</td>\n",
       "      <td>2</td>\n",
       "      <td>1</td>\n",
       "      <td>30</td>\n",
       "      <td>2</td>\n",
       "      <td>2</td>\n",
       "      <td>2</td>\n",
       "      <td>2</td>\n",
       "      <td>2</td>\n",
       "      <td>...</td>\n",
       "      <td>2</td>\n",
       "      <td>3</td>\n",
       "      <td>1</td>\n",
       "      <td>2</td>\n",
       "      <td>0</td>\n",
       "      <td>2020-04-17</td>\n",
       "      <td>2020-04-10</td>\n",
       "      <td>2020-06-29</td>\n",
       "      <td>80</td>\n",
       "      <td>2.0</td>\n",
       "    </tr>\n",
       "    <tr>\n",
       "      <th>2</th>\n",
       "      <td>0d01b5</td>\n",
       "      <td>1</td>\n",
       "      <td>2</td>\n",
       "      <td>2</td>\n",
       "      <td>60</td>\n",
       "      <td>2</td>\n",
       "      <td>1</td>\n",
       "      <td>2</td>\n",
       "      <td>2</td>\n",
       "      <td>2</td>\n",
       "      <td>...</td>\n",
       "      <td>2</td>\n",
       "      <td>3</td>\n",
       "      <td>1</td>\n",
       "      <td>2</td>\n",
       "      <td>1</td>\n",
       "      <td>2020-04-13</td>\n",
       "      <td>2020-04-13</td>\n",
       "      <td>2020-04-22</td>\n",
       "      <td>9</td>\n",
       "      <td>4.0</td>\n",
       "    </tr>\n",
       "    <tr>\n",
       "      <th>3</th>\n",
       "      <td>1beec8</td>\n",
       "      <td>2</td>\n",
       "      <td>2</td>\n",
       "      <td>1</td>\n",
       "      <td>47</td>\n",
       "      <td>2</td>\n",
       "      <td>1</td>\n",
       "      <td>2</td>\n",
       "      <td>2</td>\n",
       "      <td>2</td>\n",
       "      <td>...</td>\n",
       "      <td>2</td>\n",
       "      <td>3</td>\n",
       "      <td>1</td>\n",
       "      <td>1</td>\n",
       "      <td>1</td>\n",
       "      <td>2020-04-16</td>\n",
       "      <td>2020-04-16</td>\n",
       "      <td>2020-04-29</td>\n",
       "      <td>13</td>\n",
       "      <td>3.0</td>\n",
       "    </tr>\n",
       "    <tr>\n",
       "      <th>4</th>\n",
       "      <td>1.75E+56</td>\n",
       "      <td>2</td>\n",
       "      <td>2</td>\n",
       "      <td>2</td>\n",
       "      <td>63</td>\n",
       "      <td>2</td>\n",
       "      <td>2</td>\n",
       "      <td>2</td>\n",
       "      <td>2</td>\n",
       "      <td>2</td>\n",
       "      <td>...</td>\n",
       "      <td>2</td>\n",
       "      <td>3</td>\n",
       "      <td>1</td>\n",
       "      <td>2</td>\n",
       "      <td>0</td>\n",
       "      <td>2020-04-22</td>\n",
       "      <td>2020-04-13</td>\n",
       "      <td>2020-06-29</td>\n",
       "      <td>77</td>\n",
       "      <td>4.0</td>\n",
       "    </tr>\n",
       "  </tbody>\n",
       "</table>\n",
       "<p>5 rows × 25 columns</p>\n",
       "</div>"
      ],
      "text/plain": [
       "         id  sex  intubed  pneumonia  age  pregnancy  diabetes  copd  asthma  \\\n",
       "0    167386    1        2          2   54          2         2     2       2   \n",
       "1    0b5948    2        2          1   30          2         2     2       2   \n",
       "2    0d01b5    1        2          2   60          2         1     2       2   \n",
       "3    1beec8    2        2          1   47          2         1     2       2   \n",
       "4  1.75E+56    2        2          2   63          2         2     2       2   \n",
       "\n",
       "   inmsupr   ...     tobacco  contact_other_covid  covid_res  icu  DEATH  \\\n",
       "0        2   ...           2                    3          1    2      0   \n",
       "1        2   ...           2                    3          1    2      0   \n",
       "2        2   ...           2                    3          1    2      1   \n",
       "3        2   ...           2                    3          1    1      1   \n",
       "4        2   ...           2                    3          1    2      0   \n",
       "\n",
       "        d_ent       d_sym      d_last  diff_days  age_grp  \n",
       "0  2020-04-06  2020-04-01  2020-06-29         89      3.0  \n",
       "1  2020-04-17  2020-04-10  2020-06-29         80      2.0  \n",
       "2  2020-04-13  2020-04-13  2020-04-22          9      4.0  \n",
       "3  2020-04-16  2020-04-16  2020-04-29         13      3.0  \n",
       "4  2020-04-22  2020-04-13  2020-06-29         77      4.0  \n",
       "\n",
       "[5 rows x 25 columns]"
      ]
     },
     "execution_count": 146,
     "metadata": {},
     "output_type": "execute_result"
    }
   ],
   "source": [
    "df = pd.read_csv(\"A:\\workspace\\AI_project\\src\\data\\d_final.csv\")\n",
    "df.head()"
   ]
  },
  {
   "cell_type": "code",
   "execution_count": 147,
   "metadata": {},
   "outputs": [
    {
     "data": {
      "text/plain": [
       "0    88993\n",
       "1    32402\n",
       "Name: DEATH, dtype: int64"
      ]
     },
     "execution_count": 147,
     "metadata": {},
     "output_type": "execute_result"
    }
   ],
   "source": [
    "df['DEATH'].value_counts()"
   ]
  },
  {
   "cell_type": "markdown",
   "metadata": {},
   "source": [
    "## 사망기간 예측을 위한 생존자 데이터 제거"
   ]
  },
  {
   "cell_type": "code",
   "execution_count": 148,
   "metadata": {},
   "outputs": [
    {
     "data": {
      "text/plain": [
       "1.0    32402\n",
       "Name: DEATH, dtype: int64"
      ]
     },
     "execution_count": 148,
     "metadata": {},
     "output_type": "execute_result"
    }
   ],
   "source": [
    "df['DEATH'] = df['DEATH'].replace(0, np.nan)\n",
    "df.dropna(inplace=True)\n",
    "df['DEATH'].value_counts()"
   ]
  },
  {
   "cell_type": "markdown",
   "metadata": {},
   "source": [
    "## 변수 설정"
   ]
  },
  {
   "cell_type": "code",
   "execution_count": 149,
   "metadata": {},
   "outputs": [],
   "source": [
    "t_train_raw = df[['sex', 'intubed','age_grp','pneumonia',\n",
    "                  'pregnancy', 'diabetes', 'copd', 'asthma',\n",
    "                  'inmsupr','hypertension','other_disease',\n",
    "                  'cardiovascular','obesity', 'renal_chronic', \n",
    "                  'tobacco', 'contact_other_covid', 'covid_res', \n",
    "                  'icu']]\n",
    "\n",
    "target_raw = df['diff_days']"
   ]
  },
  {
   "cell_type": "code",
   "execution_count": 150,
   "metadata": {},
   "outputs": [],
   "source": [
    "# 정규화 적용\n",
    "min_max_scaler = preprocessing.MinMaxScaler()\n",
    "x_scaled = min_max_scaler.fit_transform(t_train_raw)\n",
    "x_train_raw = pd.DataFrame(x_scaled)\n",
    "\n",
    "## train/test 셋 분리\n",
    "x_train, x_test, target_train, target_test = train_test_split(x_train_raw, target_raw, test_size=0.2, shuffle = True, random_state = 1004)"
   ]
  },
  {
   "cell_type": "code",
   "execution_count": 151,
   "metadata": {},
   "outputs": [
    {
     "name": "stdout",
     "output_type": "stream",
     "text": [
      "(25921, 18) (25921,)\n",
      "(6481, 18) (6481,)\n"
     ]
    }
   ],
   "source": [
    "print(x_train.shape, target_train.shape)\n",
    "print(x_test.shape, target_test.shape)"
   ]
  },
  {
   "cell_type": "markdown",
   "metadata": {},
   "source": [
    "## 텐서에 탑재를 위한 차원 변경\n",
    "\n",
    "- target의 시리즈 데이터를 데이터 프레임으로 변환"
   ]
  },
  {
   "cell_type": "code",
   "execution_count": 152,
   "metadata": {},
   "outputs": [
    {
     "name": "stdout",
     "output_type": "stream",
     "text": [
      "(25921, 18) (25921, 1)\n",
      "(6481, 18) (6481, 1)\n"
     ]
    }
   ],
   "source": [
    "target_train1 = target_train.values.reshape(25921, 1)\n",
    "target_test1 = target_test.values.reshape(6481, 1)\n",
    "\n",
    "print(x_train.shape, target_train1.shape)\n",
    "print(x_test.shape, target_test1.shape)"
   ]
  },
  {
   "cell_type": "markdown",
   "metadata": {},
   "source": [
    "## 텐서후로우 환경 설정\n",
    "- 텐서후로우 1 버전으로 작성\n",
    "- multivariable linear regression 모델"
   ]
  },
  {
   "cell_type": "code",
   "execution_count": 153,
   "metadata": {},
   "outputs": [],
   "source": [
    "x = tf.placeholder(tf.float32, shape=[None, 18])\n",
    "y = tf.placeholder(tf.float32, shape=[None, 1])\n",
    "\n",
    "w = tf.Variable(tf.random_normal([18, 1]))\n",
    "b = tf.Variable(tf.random_normal([1]))\n",
    "\n",
    "hypothesis = tf.matmul(x,w)+b\n",
    "\n",
    "loss = tf.reduce_mean(tf.square(hypothesis - y))\n",
    "\n",
    "train = tf.train.GradientDescentOptimizer(learning_rate=0.001).minimize(loss)"
   ]
  },
  {
   "cell_type": "code",
   "execution_count": 154,
   "metadata": {},
   "outputs": [
    {
     "name": "stdout",
     "output_type": "stream",
     "text": [
      "0 loss:  206.27426 \n",
      "accur: \n",
      " [[-1.9432667 ]\n",
      " [-0.96439195]\n",
      " [-2.4477406 ]\n",
      " ...\n",
      " [-0.52940977]\n",
      " [-1.5862188 ]\n",
      " [-2.1038213 ]]\n",
      "200 loss:  62.826836 \n",
      "accur: \n",
      " [[8.444541]\n",
      " [7.843784]\n",
      " [8.18351 ]\n",
      " ...\n",
      " [9.825858]\n",
      " [8.511711]\n",
      " [8.371922]]\n",
      "400 loss:  60.071533 \n",
      "accur: \n",
      " [[ 9.853814]\n",
      " [ 9.036879]\n",
      " [ 9.565574]\n",
      " ...\n",
      " [11.210881]\n",
      " [ 9.920849]\n",
      " [ 9.831933]]\n",
      "600 loss:  59.691673 \n",
      "accur: \n",
      " [[10.102017]\n",
      " [ 9.24659 ]\n",
      " [ 9.755627]\n",
      " ...\n",
      " [11.43624 ]\n",
      " [10.203204]\n",
      " [10.124241]]\n",
      "800 loss:  59.391106 \n",
      "accur: \n",
      " [[10.195443]\n",
      " [ 9.326351]\n",
      " [ 9.790537]\n",
      " ...\n",
      " [11.507321]\n",
      " [10.332411]\n",
      " [10.259177]]\n",
      "1000 loss:  59.12644 \n",
      "accur: \n",
      " [[10.264011]\n",
      " [ 9.386155]\n",
      " [ 9.803911]\n",
      " ...\n",
      " [11.553909]\n",
      " [10.434379]\n",
      " [10.367281]]\n",
      "1200 loss:  58.892204 \n",
      "accur: \n",
      " [[10.32485 ]\n",
      " [ 9.440331]\n",
      " [ 9.813129]\n",
      " ...\n",
      " [11.5931  ]\n",
      " [10.525902]\n",
      " [10.465856]]\n",
      "1400 loss:  58.684242 \n",
      "accur: \n",
      " [[10.380543]\n",
      " [ 9.490901]\n",
      " [ 9.820593]\n",
      " ...\n",
      " [11.627458]\n",
      " [10.609686]\n",
      " [10.557595]]\n",
      "1600 loss:  58.499012 \n",
      "accur: \n",
      " [[10.4317665]\n",
      " [ 9.538284 ]\n",
      " [ 9.826761 ]\n",
      " ...\n",
      " [11.657644 ]\n",
      " [10.686579 ]\n",
      " [10.643272 ]]\n",
      "1800 loss:  58.333447 \n",
      "accur: \n",
      " [[10.478925]\n",
      " [ 9.582692]\n",
      " [ 9.831832]\n",
      " ...\n",
      " [11.68405 ]\n",
      " [10.757149]\n",
      " [10.723378]]\n",
      "2000 loss:  58.184975 \n",
      "accur: \n",
      " [[10.522365 ]\n",
      " [ 9.624298 ]\n",
      " [ 9.835956 ]\n",
      " ...\n",
      " [11.707007 ]\n",
      " [10.8218975]\n",
      " [10.798344 ]]\n",
      "2200 loss:  58.051407 \n",
      "accur: \n",
      " [[10.562391]\n",
      " [ 9.663269]\n",
      " [ 9.839257]\n",
      " ...\n",
      " [11.726811]\n",
      " [10.881273]\n",
      " [10.868551]]\n",
      "2400 loss:  57.930748 \n",
      "accur: \n",
      " [[10.599287]\n",
      " [ 9.699757]\n",
      " [ 9.841852]\n",
      " ...\n",
      " [11.743732]\n",
      " [10.935692]\n",
      " [10.934357]]\n",
      "2600 loss:  57.82142 \n",
      "accur: \n",
      " [[10.633315 ]\n",
      " [ 9.733911 ]\n",
      " [ 9.843846 ]\n",
      " ...\n",
      " [11.758022 ]\n",
      " [10.9855385]\n",
      " [10.996086 ]]\n",
      "2800 loss:  57.721954 \n",
      "accur: \n",
      " [[10.664712]\n",
      " [ 9.765867]\n",
      " [ 9.845334]\n",
      " ...\n",
      " [11.769911]\n",
      " [11.031165]\n",
      " [11.054043]]\n",
      "3000 loss:  57.63112 \n",
      "accur: \n",
      " [[10.693697]\n",
      " [ 9.795758]\n",
      " [ 9.846396]\n",
      " ...\n",
      " [11.779608]\n",
      " [11.072899]\n",
      " [11.108503]]\n",
      "3200 loss:  57.54787 \n",
      "accur: \n",
      " [[10.720467]\n",
      " [ 9.823708]\n",
      " [ 9.847112]\n",
      " ...\n",
      " [11.787302]\n",
      " [11.111036]\n",
      " [11.159721]]\n",
      "3400 loss:  57.471226 \n",
      "accur: \n",
      " [[10.745207 ]\n",
      " [ 9.849831 ]\n",
      " [ 9.847544 ]\n",
      " ...\n",
      " [11.793172 ]\n",
      " [11.145851 ]\n",
      " [11.2079315]]\n",
      "3600 loss:  57.40054 \n",
      "accur: \n",
      " [[10.768086 ]\n",
      " [ 9.874243 ]\n",
      " [ 9.847753 ]\n",
      " ...\n",
      " [11.7973795]\n",
      " [11.177602 ]\n",
      " [11.253352 ]]\n",
      "3800 loss:  57.335068 \n",
      "accur: \n",
      " [[10.789257]\n",
      " [ 9.897046]\n",
      " [ 9.847792]\n",
      " ...\n",
      " [11.800069]\n",
      " [11.206518]\n",
      " [11.29618 ]]\n",
      "4000 loss:  57.27415 \n",
      "accur: \n",
      " [[10.808857]\n",
      " [ 9.91834 ]\n",
      " [ 9.847708]\n",
      " ...\n",
      " [11.801376]\n",
      " [11.232815]\n",
      " [11.336597]]\n",
      "4200 loss:  57.217346 \n",
      "accur: \n",
      " [[10.827022]\n",
      " [ 9.938217]\n",
      " [ 9.847544]\n",
      " ...\n",
      " [11.801427]\n",
      " [11.256694]\n",
      " [11.374778]]\n",
      "4400 loss:  57.164177 \n",
      "accur: \n",
      " [[10.843865]\n",
      " [ 9.956766]\n",
      " [ 9.847335]\n",
      " ...\n",
      " [11.800333]\n",
      " [11.278336]\n",
      " [11.410872]]\n",
      "4600 loss:  57.114304 \n",
      "accur: \n",
      " [[10.859497]\n",
      " [ 9.974071]\n",
      " [ 9.847114]\n",
      " ...\n",
      " [11.7982  ]\n",
      " [11.29791 ]\n",
      " [11.445027]]\n",
      "4800 loss:  57.067307 \n",
      "accur: \n",
      " [[10.874019 ]\n",
      " [ 9.990207 ]\n",
      " [ 9.8469095]\n",
      " ...\n",
      " [11.795123 ]\n",
      " [11.315575 ]\n",
      " [11.477378 ]]\n",
      "5000 loss:  57.022987 \n",
      "accur: \n",
      " [[10.88752  ]\n",
      " [10.00525  ]\n",
      " [ 9.846746 ]\n",
      " ...\n",
      " [11.791189 ]\n",
      " [11.3314705]\n",
      " [11.508043 ]]\n",
      "5200 loss:  56.98103 \n",
      "accur: \n",
      " [[10.900085]\n",
      " [10.019269]\n",
      " [ 9.846648]\n",
      " ...\n",
      " [11.786478]\n",
      " [11.345732]\n",
      " [11.537136]]\n",
      "5400 loss:  56.941128 \n",
      "accur: \n",
      " [[10.911791 ]\n",
      " [10.03233  ]\n",
      " [ 9.846632 ]\n",
      " ...\n",
      " [11.781064 ]\n",
      " [11.3584795]\n",
      " [11.564762 ]]\n",
      "5600 loss:  56.90326 \n",
      "accur: \n",
      " [[10.9227085]\n",
      " [10.044493 ]\n",
      " [ 9.846716 ]\n",
      " ...\n",
      " [11.775015 ]\n",
      " [11.369829 ]\n",
      " [11.591019 ]]\n",
      "5800 loss:  56.867134 \n",
      "accur: \n",
      " [[10.932905]\n",
      " [10.055815]\n",
      " [ 9.846912]\n",
      " ...\n",
      " [11.768391]\n",
      " [11.379885]\n",
      " [11.615995]]\n",
      "6000 loss:  56.8327 \n",
      "accur: \n",
      " [[10.942435 ]\n",
      " [10.066352 ]\n",
      " [ 9.847234 ]\n",
      " ...\n",
      " [11.7612505]\n",
      " [11.388744 ]\n",
      " [11.639774 ]]\n",
      "\n",
      "Test-set: \n",
      " [[10.404711]\n",
      " [10.428697]\n",
      " [10.225683]\n",
      " ...\n",
      " [11.660897]\n",
      " [10.261456]\n",
      " [12.515716]]\n"
     ]
    }
   ],
   "source": [
    "with tf.Session() as sess:\n",
    "    sess.run(tf.global_variables_initializer())\n",
    "    \n",
    "    for step in range(6001):\n",
    "        loss_val, hy_val, _ = sess.run([loss, hypothesis, train], \n",
    "                 feed_dict={x:x_train, y:target_train1})\n",
    "        if step % 200 == 0:\n",
    "            print(step, \"loss: \", loss_val, \"\\naccur: \\n\", hy_val)\n",
    "    \n",
    "    pred = sess.run(hypothesis, feed_dict={x:x_test})\n",
    "    print(\"\\nTest-set: \\n\", pred)"
   ]
  },
  {
   "cell_type": "markdown",
   "metadata": {},
   "source": [
    "- loss 값은 55 대에서 더 떨어지지 않음"
   ]
  },
  {
   "cell_type": "markdown",
   "metadata": {},
   "source": [
    "### classification_report"
   ]
  },
  {
   "cell_type": "code",
   "execution_count": 155,
   "metadata": {},
   "outputs": [
    {
     "name": "stdout",
     "output_type": "stream",
     "text": [
      "MSE:  54.135215478967595 RMSE:  7.3576637242379865\n"
     ]
    }
   ],
   "source": [
    "rmse = np.sqrt(mean_squared_error(target_test, pred))\n",
    "mse = mean_squared_error(target_test, pred)\n",
    "\n",
    "print(\"MSE: \", mse, \"RMSE: \", rmse)"
   ]
  },
  {
   "cell_type": "code",
   "execution_count": 156,
   "metadata": {},
   "outputs": [
    {
     "data": {
      "image/png": "[encoded data removed]",
      "text/plain": [
       "<Figure size 432x288 with 1 Axes>"
      ]
     },
     "metadata": {
      "needs_background": "light"
     },
     "output_type": "display_data"
    }
   ],
   "source": [
    "plt.plot(pred, target_test, 'o')\n",
    "plt.xlabel('True Value')\n",
    "plt.ylabel('Predicted Value')\n",
    "plt.title('Regression - DNN')\n",
    "plt.show()"
   ]
  },
  {
   "cell_type": "markdown",
   "metadata": {},
   "source": [
    "## Pred, True, Error table"
   ]
  },
  {
   "cell_type": "code",
   "execution_count": 157,
   "metadata": {},
   "outputs": [],
   "source": [
    "pred1 = pred.reshape(6481,)"
   ]
  },
  {
   "cell_type": "code",
   "execution_count": 167,
   "metadata": {
    "scrolled": true
   },
   "outputs": [
    {
     "data": {
      "text/html": [
       "<div>\n",
       "<style scoped>\n",
       "    .dataframe tbody tr th:only-of-type {\n",
       "        vertical-align: middle;\n",
       "    }\n",
       "\n",
       "    .dataframe tbody tr th {\n",
       "        vertical-align: top;\n",
       "    }\n",
       "\n",
       "    .dataframe thead th {\n",
       "        text-align: right;\n",
       "    }\n",
       "</style>\n",
       "<table border=\"1\" class=\"dataframe\">\n",
       "  <thead>\n",
       "    <tr style=\"text-align: right;\">\n",
       "      <th></th>\n",
       "      <th>y_pred</th>\n",
       "      <th>y_true</th>\n",
       "    </tr>\n",
       "  </thead>\n",
       "  <tbody>\n",
       "    <tr>\n",
       "      <th>6476</th>\n",
       "      <td>11.0</td>\n",
       "      <td>11</td>\n",
       "    </tr>\n",
       "    <tr>\n",
       "      <th>6477</th>\n",
       "      <td>12.0</td>\n",
       "      <td>17</td>\n",
       "    </tr>\n",
       "    <tr>\n",
       "      <th>6478</th>\n",
       "      <td>12.0</td>\n",
       "      <td>16</td>\n",
       "    </tr>\n",
       "    <tr>\n",
       "      <th>6479</th>\n",
       "      <td>10.0</td>\n",
       "      <td>15</td>\n",
       "    </tr>\n",
       "    <tr>\n",
       "      <th>6480</th>\n",
       "      <td>13.0</td>\n",
       "      <td>11</td>\n",
       "    </tr>\n",
       "  </tbody>\n",
       "</table>\n",
       "</div>"
      ],
      "text/plain": [
       "      y_pred  y_true\n",
       "6476    11.0      11\n",
       "6477    12.0      17\n",
       "6478    12.0      16\n",
       "6479    10.0      15\n",
       "6480    13.0      11"
      ]
     },
     "execution_count": 167,
     "metadata": {},
     "output_type": "execute_result"
    }
   ],
   "source": [
    "c = { 'y_true': target_test, \n",
    "     'y_pred': pred1.round(), \n",
    "     #'error': target_test - pred1.round()}\n",
    "    }\n",
    "pred_diff = pd.DataFrame(data=c).reset_index()\n",
    "pred_diff = pred_diff.drop(['index'], axis=1).reset_index(drop=True)\n",
    "pred_diff.tail()"
   ]
  },
  {
   "cell_type": "code",
   "execution_count": 159,
   "metadata": {},
   "outputs": [],
   "source": [
    "pred_diff.to_csv('A://workspace//AI_project//results//processed//lin_reg_dnn.csv', encoding='utf-8', index=False, line_terminator='\\n')"
   ]
  },
  {
   "cell_type": "markdown",
   "metadata": {},
   "source": [
    "## =========================================="
   ]
  },
  {
   "cell_type": "markdown",
   "metadata": {},
   "source": [
    "## OLS Estimation"
   ]
  },
  {
   "cell_type": "code",
   "execution_count": 160,
   "metadata": {
    "scrolled": false
   },
   "outputs": [
    {
     "data": {
      "text/html": [
       "<table class=\"simpletable\">\n",
       "<caption>OLS Regression Results</caption>\n",
       "<tr>\n",
       "  <th>Dep. Variable:</th>        <td>diff_days</td>    <th>  R-squared (uncentered):</th>       <td>   0.690</td>  \n",
       "</tr>\n",
       "<tr>\n",
       "  <th>Model:</th>                   <td>OLS</td>       <th>  Adj. R-squared (uncentered):</th>  <td>   0.689</td>  \n",
       "</tr>\n",
       "<tr>\n",
       "  <th>Method:</th>             <td>Least Squares</td>  <th>  F-statistic:       </th>           <td>   3998.</td>  \n",
       "</tr>\n",
       "<tr>\n",
       "  <th>Date:</th>             <td>Mon, 21 Sep 2020</td> <th>  Prob (F-statistic):</th>            <td>  0.00</td>   \n",
       "</tr>\n",
       "<tr>\n",
       "  <th>Time:</th>                 <td>19:38:05</td>     <th>  Log-Likelihood:    </th>          <td>-1.1086e+05</td>\n",
       "</tr>\n",
       "<tr>\n",
       "  <th>No. Observations:</th>      <td> 32402</td>      <th>  AIC:               </th>           <td>2.218e+05</td> \n",
       "</tr>\n",
       "<tr>\n",
       "  <th>Df Residuals:</th>          <td> 32384</td>      <th>  BIC:               </th>           <td>2.219e+05</td> \n",
       "</tr>\n",
       "<tr>\n",
       "  <th>Df Model:</th>              <td>    18</td>      <th>                     </th>               <td> </td>     \n",
       "</tr>\n",
       "<tr>\n",
       "  <th>Covariance Type:</th>      <td>nonrobust</td>    <th>                     </th>               <td> </td>     \n",
       "</tr>\n",
       "</table>\n",
       "<table class=\"simpletable\">\n",
       "<tr>\n",
       "           <td></td>              <th>coef</th>     <th>std err</th>      <th>t</th>      <th>P>|t|</th>  <th>[0.025</th>    <th>0.975]</th>  \n",
       "</tr>\n",
       "<tr>\n",
       "  <th>sex</th>                 <td>    0.3519</td> <td>    0.088</td> <td>    4.006</td> <td> 0.000</td> <td>    0.180</td> <td>    0.524</td>\n",
       "</tr>\n",
       "<tr>\n",
       "  <th>intubed</th>             <td>   -1.9781</td> <td>    0.265</td> <td>   -7.454</td> <td> 0.000</td> <td>   -2.498</td> <td>   -1.458</td>\n",
       "</tr>\n",
       "<tr>\n",
       "  <th>age_grp</th>             <td>   -0.1157</td> <td>    0.211</td> <td>   -0.548</td> <td> 0.584</td> <td>   -0.530</td> <td>    0.298</td>\n",
       "</tr>\n",
       "<tr>\n",
       "  <th>pneumonia</th>           <td>   -0.3655</td> <td>    0.101</td> <td>   -3.629</td> <td> 0.000</td> <td>   -0.563</td> <td>   -0.168</td>\n",
       "</tr>\n",
       "<tr>\n",
       "  <th>pregnancy</th>           <td>   21.8594</td> <td>    0.712</td> <td>   30.689</td> <td> 0.000</td> <td>   20.463</td> <td>   23.256</td>\n",
       "</tr>\n",
       "<tr>\n",
       "  <th>diabetes</th>            <td>    1.0747</td> <td>    0.180</td> <td>    5.977</td> <td> 0.000</td> <td>    0.722</td> <td>    1.427</td>\n",
       "</tr>\n",
       "<tr>\n",
       "  <th>copd</th>                <td>    1.0203</td> <td>    0.356</td> <td>    2.865</td> <td> 0.004</td> <td>    0.322</td> <td>    1.718</td>\n",
       "</tr>\n",
       "<tr>\n",
       "  <th>asthma</th>              <td>   -1.1892</td> <td>    0.531</td> <td>   -2.240</td> <td> 0.025</td> <td>   -2.230</td> <td>   -0.148</td>\n",
       "</tr>\n",
       "<tr>\n",
       "  <th>inmsupr</th>             <td>    1.0660</td> <td>    0.419</td> <td>    2.544</td> <td> 0.011</td> <td>    0.245</td> <td>    1.887</td>\n",
       "</tr>\n",
       "<tr>\n",
       "  <th>hypertension</th>        <td>    0.0446</td> <td>    0.183</td> <td>    0.243</td> <td> 0.808</td> <td>   -0.314</td> <td>    0.404</td>\n",
       "</tr>\n",
       "<tr>\n",
       "  <th>other_disease</th>       <td>    0.3460</td> <td>    0.325</td> <td>    1.065</td> <td> 0.287</td> <td>   -0.291</td> <td>    0.983</td>\n",
       "</tr>\n",
       "<tr>\n",
       "  <th>cardiovascular</th>      <td>    1.0148</td> <td>    0.341</td> <td>    2.972</td> <td> 0.003</td> <td>    0.346</td> <td>    1.684</td>\n",
       "</tr>\n",
       "<tr>\n",
       "  <th>obesity</th>             <td>    0.1060</td> <td>    0.196</td> <td>    0.541</td> <td> 0.589</td> <td>   -0.278</td> <td>    0.490</td>\n",
       "</tr>\n",
       "<tr>\n",
       "  <th>renal_chronic</th>       <td>    2.1095</td> <td>    0.311</td> <td>    6.776</td> <td> 0.000</td> <td>    1.499</td> <td>    2.720</td>\n",
       "</tr>\n",
       "<tr>\n",
       "  <th>tobacco</th>             <td>   -0.8251</td> <td>    0.282</td> <td>   -2.929</td> <td> 0.003</td> <td>   -1.377</td> <td>   -0.273</td>\n",
       "</tr>\n",
       "<tr>\n",
       "  <th>contact_other_covid</th> <td>    0.7989</td> <td>    0.139</td> <td>    5.763</td> <td> 0.000</td> <td>    0.527</td> <td>    1.071</td>\n",
       "</tr>\n",
       "<tr>\n",
       "  <th>covid_res</th>           <td>   -2.5672</td> <td>    0.147</td> <td>  -17.450</td> <td> 0.000</td> <td>   -2.856</td> <td>   -2.279</td>\n",
       "</tr>\n",
       "<tr>\n",
       "  <th>icu</th>                 <td>   -3.3982</td> <td>    0.298</td> <td>  -11.418</td> <td> 0.000</td> <td>   -3.982</td> <td>   -2.815</td>\n",
       "</tr>\n",
       "</table>\n",
       "<table class=\"simpletable\">\n",
       "<tr>\n",
       "  <th>Omnibus:</th>       <td>11619.412</td> <th>  Durbin-Watson:     </th> <td>   1.996</td> \n",
       "</tr>\n",
       "<tr>\n",
       "  <th>Prob(Omnibus):</th>  <td> 0.000</td>   <th>  Jarque-Bera (JB):  </th> <td>58642.288</td>\n",
       "</tr>\n",
       "<tr>\n",
       "  <th>Skew:</th>           <td> 1.668</td>   <th>  Prob(JB):          </th> <td>    0.00</td> \n",
       "</tr>\n",
       "<tr>\n",
       "  <th>Kurtosis:</th>       <td> 8.684</td>   <th>  Cond. No.          </th> <td>    37.9</td> \n",
       "</tr>\n",
       "</table><br/><br/>Warnings:<br/>[1] Standard Errors assume that the covariance matrix of the errors is correctly specified."
      ],
      "text/plain": [
       "<class 'statsmodels.iolib.summary.Summary'>\n",
       "\"\"\"\n",
       "                                 OLS Regression Results                                \n",
       "=======================================================================================\n",
       "Dep. Variable:              diff_days   R-squared (uncentered):                   0.690\n",
       "Model:                            OLS   Adj. R-squared (uncentered):              0.689\n",
       "Method:                 Least Squares   F-statistic:                              3998.\n",
       "Date:                Mon, 21 Sep 2020   Prob (F-statistic):                        0.00\n",
       "Time:                        19:38:05   Log-Likelihood:                     -1.1086e+05\n",
       "No. Observations:               32402   AIC:                                  2.218e+05\n",
       "Df Residuals:                   32384   BIC:                                  2.219e+05\n",
       "Df Model:                          18                                                  \n",
       "Covariance Type:            nonrobust                                                  \n",
       "=======================================================================================\n",
       "                          coef    std err          t      P>|t|      [0.025      0.975]\n",
       "---------------------------------------------------------------------------------------\n",
       "sex                     0.3519      0.088      4.006      0.000       0.180       0.524\n",
       "intubed                -1.9781      0.265     -7.454      0.000      -2.498      -1.458\n",
       "age_grp                -0.1157      0.211     -0.548      0.584      -0.530       0.298\n",
       "pneumonia              -0.3655      0.101     -3.629      0.000      -0.563      -0.168\n",
       "pregnancy              21.8594      0.712     30.689      0.000      20.463      23.256\n",
       "diabetes                1.0747      0.180      5.977      0.000       0.722       1.427\n",
       "copd                    1.0203      0.356      2.865      0.004       0.322       1.718\n",
       "asthma                 -1.1892      0.531     -2.240      0.025      -2.230      -0.148\n",
       "inmsupr                 1.0660      0.419      2.544      0.011       0.245       1.887\n",
       "hypertension            0.0446      0.183      0.243      0.808      -0.314       0.404\n",
       "other_disease           0.3460      0.325      1.065      0.287      -0.291       0.983\n",
       "cardiovascular          1.0148      0.341      2.972      0.003       0.346       1.684\n",
       "obesity                 0.1060      0.196      0.541      0.589      -0.278       0.490\n",
       "renal_chronic           2.1095      0.311      6.776      0.000       1.499       2.720\n",
       "tobacco                -0.8251      0.282     -2.929      0.003      -1.377      -0.273\n",
       "contact_other_covid     0.7989      0.139      5.763      0.000       0.527       1.071\n",
       "covid_res              -2.5672      0.147    -17.450      0.000      -2.856      -2.279\n",
       "icu                    -3.3982      0.298    -11.418      0.000      -3.982      -2.815\n",
       "==============================================================================\n",
       "Omnibus:                    11619.412   Durbin-Watson:                   1.996\n",
       "Prob(Omnibus):                  0.000   Jarque-Bera (JB):            58642.288\n",
       "Skew:                           1.668   Prob(JB):                         0.00\n",
       "Kurtosis:                       8.684   Cond. No.                         37.9\n",
       "==============================================================================\n",
       "\n",
       "Warnings:\n",
       "[1] Standard Errors assume that the covariance matrix of the errors is correctly specified.\n",
       "\"\"\""
      ]
     },
     "execution_count": 160,
     "metadata": {},
     "output_type": "execute_result"
    }
   ],
   "source": [
    "# 데이터 로드\n",
    "x_ols_raw = t_train_raw\n",
    "target_ols = target_raw\n",
    "\n",
    "# 정규화 적용\n",
    "min_max_scaler = preprocessing.MinMaxScaler()\n",
    "x_scaled = min_max_scaler.fit_transform(x_ols_raw)\n",
    "x_ols = pd.DataFrame(x_scaled)\n",
    "\n",
    "# 일관성을 위한 코드\n",
    "# shuffle과 random_seed 값 1004를 적용하여 일관성 있는 순서를 위해 아래 코드가 사용되었음:\n",
    "x_ols, _, target_ols, _ = train_test_split(x_ols, target_ols, \n",
    "                                           test_size=0, \n",
    "                                           shuffle = True, \n",
    "                                           random_state = 1004)\n",
    "\n",
    "colname = ['sex', 'intubed','age_grp','pneumonia',\n",
    "            'pregnancy', 'diabetes', 'copd', 'asthma',\n",
    "            'inmsupr','hypertension','other_disease',\n",
    "            'cardiovascular','obesity', 'renal_chronic', \n",
    "            'tobacco', 'contact_other_covid', 'covid_res', \n",
    "            'icu']\n",
    "\n",
    "x_ols = x_ols.reset_index(drop=True)\n",
    "x_ols.columns = colname\n",
    "target_ols = target_ols.reset_index(drop=True)\n",
    "\n",
    "FD = sm.OLS(endog=target_ols,\n",
    "            exog=x_ols).fit()\n",
    "FD.summary()"
   ]
  },
  {
   "cell_type": "markdown",
   "metadata": {},
   "source": [
    "- 부연설명:\n",
    "- R-squared (uncentered):\t0.690 으로 약 69% 모델 적합도\n",
    "- x 값이 1 증가할때 마다 해당 coef 만큼 y 값 변동\n",
    "- 즉 폐렴(pneumonia)가 1 증가 ( 1 : 예 -> 2: 아니오 ) 하면 예상 사망일이 -.3655일 만큼 짧아짐\n",
    "- 임신 (pregnancy)가 아닐수록 (1 -> 2) 예상 사망일이 21.85일 만큼 길어짐\n",
    "- 남자 (sex : 2) 일수록 예상 사망일이 0.35일 늘어남 등"
   ]
  },
  {
   "cell_type": "markdown",
   "metadata": {},
   "source": [
    "### Classification_report"
   ]
  },
  {
   "cell_type": "code",
   "execution_count": 161,
   "metadata": {},
   "outputs": [
    {
     "name": "stdout",
     "output_type": "stream",
     "text": [
      "MSE:  54.85987560071798 RMSE:  7.406745277159056\n"
     ]
    }
   ],
   "source": [
    "pred2 = FD.predict(x_ols)\n",
    "rmse1 = np.sqrt(mean_squared_error(target_ols, pred2))\n",
    "mse1 = mean_squared_error(target_ols, pred2)\n",
    "\n",
    "print(\"MSE: \", mse1, \"RMSE: \", rmse1)"
   ]
  },
  {
   "cell_type": "code",
   "execution_count": 162,
   "metadata": {},
   "outputs": [
    {
     "data": {
      "image/png": "[encoded data removed]",
      "text/plain": [
       "<Figure size 432x288 with 1 Axes>"
      ]
     },
     "metadata": {
      "needs_background": "light"
     },
     "output_type": "display_data"
    }
   ],
   "source": [
    "plt.plot(pred2, target_ols, 'o')\n",
    "plt.xlabel('True Value')\n",
    "plt.ylabel('Predicted Value')\n",
    "plt.title('Regression - OLS')\n",
    "plt.show()"
   ]
  },
  {
   "cell_type": "markdown",
   "metadata": {},
   "source": [
    "## Predicted, True, Error table"
   ]
  },
  {
   "cell_type": "code",
   "execution_count": 163,
   "metadata": {},
   "outputs": [],
   "source": [
    "d = { 'y_true': target_ols, \n",
    "      'y_pred': pred2.round(), \n",
    "      #'error': target_ols - pred2.round()}\n",
    "    }\n",
    "\n",
    "pred_diff1 = pd.DataFrame(data=d).reset_index()\n",
    "pred_diff1 = pred_diff1.drop(['index'], axis=1)"
   ]
  },
  {
   "cell_type": "code",
   "execution_count": 166,
   "metadata": {},
   "outputs": [
    {
     "data": {
      "text/html": [
       "<div>\n",
       "<style scoped>\n",
       "    .dataframe tbody tr th:only-of-type {\n",
       "        vertical-align: middle;\n",
       "    }\n",
       "\n",
       "    .dataframe tbody tr th {\n",
       "        vertical-align: top;\n",
       "    }\n",
       "\n",
       "    .dataframe thead th {\n",
       "        text-align: right;\n",
       "    }\n",
       "</style>\n",
       "<table border=\"1\" class=\"dataframe\">\n",
       "  <thead>\n",
       "    <tr style=\"text-align: right;\">\n",
       "      <th></th>\n",
       "      <th>y_pred</th>\n",
       "      <th>y_true</th>\n",
       "    </tr>\n",
       "  </thead>\n",
       "  <tbody>\n",
       "    <tr>\n",
       "      <th>32397</th>\n",
       "      <td>12.0</td>\n",
       "      <td>12</td>\n",
       "    </tr>\n",
       "    <tr>\n",
       "      <th>32398</th>\n",
       "      <td>10.0</td>\n",
       "      <td>16</td>\n",
       "    </tr>\n",
       "    <tr>\n",
       "      <th>32399</th>\n",
       "      <td>10.0</td>\n",
       "      <td>3</td>\n",
       "    </tr>\n",
       "    <tr>\n",
       "      <th>32400</th>\n",
       "      <td>11.0</td>\n",
       "      <td>8</td>\n",
       "    </tr>\n",
       "    <tr>\n",
       "      <th>32401</th>\n",
       "      <td>12.0</td>\n",
       "      <td>8</td>\n",
       "    </tr>\n",
       "  </tbody>\n",
       "</table>\n",
       "</div>"
      ],
      "text/plain": [
       "       y_pred  y_true\n",
       "32397    12.0      12\n",
       "32398    10.0      16\n",
       "32399    10.0       3\n",
       "32400    11.0       8\n",
       "32401    12.0       8"
      ]
     },
     "execution_count": 166,
     "metadata": {},
     "output_type": "execute_result"
    }
   ],
   "source": [
    "pred_diff1.tail()"
   ]
  },
  {
   "cell_type": "code",
   "execution_count": 165,
   "metadata": {},
   "outputs": [],
   "source": [
    "pred_diff1.to_csv('A://workspace//AI_project//results//processed//lin_reg_ols.csv', encoding='utf-8', index=False, line_terminator='\\n')"
   ]
  },
  {
   "cell_type": "markdown",
   "metadata": {},
   "source": [
    "- 참고로 OLS는 train/test 를 구분하지 않기 때문에 csv에 모든 예측 결과값이 저장됨\n",
    "- 총 32402개의 데이터가 입력되었음"
   ]
  },
  {
   "cell_type": "code",
   "execution_count": null,
   "metadata": {},
   "outputs": [],
   "source": []
  }
 ],
 "metadata": {
  "kernelspec": {
   "display_name": "Python 3",
   "language": "python",
   "name": "python3"
  },
  "language_info": {
   "codemirror_mode": {
    "name": "ipython",
    "version": 3
   },
   "file_extension": ".py",
   "mimetype": "text/x-python",
   "name": "python",
   "nbconvert_exporter": "python",
   "pygments_lexer": "ipython3",
   "version": "3.6.10"
  }
 },
 "nbformat": 4,
 "nbformat_minor": 4
}
